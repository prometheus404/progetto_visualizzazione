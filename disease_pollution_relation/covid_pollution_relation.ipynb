{
 "cells": [
  {
   "cell_type": "code",
   "execution_count": 75,
   "id": "42b96e02",
   "metadata": {},
   "outputs": [],
   "source": [
    "import pandas as pd\n",
    "import numpy as np\n",
    "NO2 = pd.read_csv(\"../csv/pollution_province/NO2_2019.csv\")\n",
    "NO2.drop(NO2.index[(NO2['Valore medio annuo³ [µg/m³]'] == 'n.d.')], inplace=True)\n",
    "NO2.drop(['region_id',\n",
    "          'province_id',\n",
    "          'municipality_id',\n",
    "          'station_code',\n",
    "          'Nome della stazione',\n",
    "          'Tipo di stazione²',\n",
    "          'codice zona',\n",
    "          'Tipo di area¹',\n",
    "          'Rendimento [%]',\n",
    "          'Numero di dati validi',\n",
    "          'nome zona',\n",
    "          'tipo di zona',\n",
    "          'Comune',\n",
    "          'Regione'\n",
    "        ], axis=1, inplace=True)\n",
    "NO2['Valore medio annuo³ [µg/m³]'] = NO2['Valore medio annuo³ [µg/m³]'].apply(int)\n",
    "NO2['Ore di OLTRE 200'] = NO2['Ore di OLTRE 200'].apply(int)\n",
    "NO2 = NO2.groupby(by='Provincia').max()\n",
    "\n",
    "\n",
    "PM10 = pd.read_csv(\"../csv/pollution_province/PM10_2019.csv\")\n",
    "PM10.drop(PM10.index[(PM10['Valore medio annuo³ [µg/m³]'] == '-')], inplace=True)\n",
    "PM10.drop(['region_id',\n",
    "            'province_id',\n",
    "            'municipality_id',\n",
    "            'station_code',\n",
    "            'Nome della stazione',\n",
    "            'Tipo di stazione²',\n",
    "            'Rendimento [%]',\n",
    "            'Comune',\n",
    "            'Regione',\n",
    "            'Rispetta copertura minima',\n",
    "            \"sufficiente distribuzione temporale nell'anno\",\n",
    "            'numero_dati_validi',\n",
    "            'TIPO DI DATI 4',\n",
    "            'Codice zona',\n",
    "            'Nome zona',\n",
    "            'Tipo di zona¹'\n",
    "        ], axis=1, inplace=True)\n",
    "PM10['Valore medio annuo³ [µg/m³]'] = PM10['Valore medio annuo³ [µg/m³]'].apply(int)\n",
    "PM10 = PM10.groupby(by='Provincia').mean()\n",
    "\n",
    "PM25 = pd.read_csv(\"../csv/pollution_province/PM25_2019.csv\")\n",
    "PM25.drop(PM10.index[(PM10['Valore medio annuo³ [µg/m³]'] == '-')], inplace=True)\n",
    "PM25.drop(['region_id',\n",
    "            'province_id',\n",
    "            'municipality_id',\n",
    "            'station_code',\n",
    "            'Nome della stazione',\n",
    "            'Tipo di stazione²',\n",
    "            'Rendimento [%]',\n",
    "            'Comune',\n",
    "            'Regione',\n",
    "            'Rispetta copertura minima',\n",
    "            \"sufficiente distribuzione temporale nell'anno\",\n",
    "            'numero_dati_validi',\n",
    "            'TIPO DI DATI 4',\n",
    "            'Codice zona',\n",
    "            'Nome zona'\n",
    "        ], axis=1, inplace=True)\n",
    "PM25['Valore medio annuo³ [µg/m³]'] = PM10['Valore medio annuo³ [µg/m³]'].apply(int)\n",
    "PM25 = PM10.groupby(by='Provincia').mean()"
   ]
  },
  {
   "cell_type": "code",
   "execution_count": 76,
   "id": "8c42c1fa",
   "metadata": {},
   "outputs": [
    {
     "data": {
      "text/html": [
       "<div>\n",
       "<style scoped>\n",
       "    .dataframe tbody tr th:only-of-type {\n",
       "        vertical-align: middle;\n",
       "    }\n",
       "\n",
       "    .dataframe tbody tr th {\n",
       "        vertical-align: top;\n",
       "    }\n",
       "\n",
       "    .dataframe thead th {\n",
       "        text-align: right;\n",
       "    }\n",
       "</style>\n",
       "<table border=\"1\" class=\"dataframe\">\n",
       "  <thead>\n",
       "    <tr style=\"text-align: right;\">\n",
       "      <th></th>\n",
       "      <th>province</th>\n",
       "      <th>infection_rate</th>\n",
       "    </tr>\n",
       "  </thead>\n",
       "  <tbody>\n",
       "    <tr>\n",
       "      <th>0</th>\n",
       "      <td>L'Aquila</td>\n",
       "      <td>41.325942</td>\n",
       "    </tr>\n",
       "    <tr>\n",
       "      <th>0</th>\n",
       "      <td>Teramo</td>\n",
       "      <td>37.800439</td>\n",
       "    </tr>\n",
       "    <tr>\n",
       "      <th>0</th>\n",
       "      <td>Pescara</td>\n",
       "      <td>40.046563</td>\n",
       "    </tr>\n",
       "    <tr>\n",
       "      <th>0</th>\n",
       "      <td>Chieti</td>\n",
       "      <td>42.806236</td>\n",
       "    </tr>\n",
       "    <tr>\n",
       "      <th>0</th>\n",
       "      <td>In fase di definizione/aggiornamento</td>\n",
       "      <td>0.165898</td>\n",
       "    </tr>\n",
       "    <tr>\n",
       "      <th>...</th>\n",
       "      <td>...</td>\n",
       "      <td>...</td>\n",
       "    </tr>\n",
       "    <tr>\n",
       "      <th>0</th>\n",
       "      <td>Treviso</td>\n",
       "      <td>173.401747</td>\n",
       "    </tr>\n",
       "    <tr>\n",
       "      <th>0</th>\n",
       "      <td>Venezia</td>\n",
       "      <td>151.305677</td>\n",
       "    </tr>\n",
       "    <tr>\n",
       "      <th>0</th>\n",
       "      <td>Padova</td>\n",
       "      <td>177.329694</td>\n",
       "    </tr>\n",
       "    <tr>\n",
       "      <th>0</th>\n",
       "      <td>Rovigo</td>\n",
       "      <td>30.893570</td>\n",
       "    </tr>\n",
       "    <tr>\n",
       "      <th>0</th>\n",
       "      <td>Fuori Regione / Provincia Autonoma</td>\n",
       "      <td>0.976976</td>\n",
       "    </tr>\n",
       "  </tbody>\n",
       "</table>\n",
       "<p>109 rows × 2 columns</p>\n",
       "</div>"
      ],
      "text/plain": [
       "                                province  infection_rate\n",
       "0                               L'Aquila       41.325942\n",
       "0                                 Teramo       37.800439\n",
       "0                                Pescara       40.046563\n",
       "0                                 Chieti       42.806236\n",
       "0   In fase di definizione/aggiornamento        0.165898\n",
       "..                                   ...             ...\n",
       "0                                Treviso      173.401747\n",
       "0                                Venezia      151.305677\n",
       "0                                 Padova      177.329694\n",
       "0                                 Rovigo       30.893570\n",
       "0     Fuori Regione / Provincia Autonoma        0.976976\n",
       "\n",
       "[109 rows x 2 columns]"
      ]
     },
     "execution_count": 76,
     "metadata": {},
     "output_type": "execute_result"
    }
   ],
   "source": [
    "infections = pd.read_csv(\"../csv/dpc-covid19-ita-province.csv\", low_memory=False)\n",
    "infection_rate = pd.DataFrame({'province':[],'infection_rate':[]})\n",
    "\n",
    "for city in infections['denominazione_provincia'].unique():\n",
    "    # Only get days when there have been infected people\n",
    "    subset = infections[(infections['denominazione_provincia'] == city) & (infections['totale_casi'] > 0)].sort_values('data')\n",
    "  \n",
    "    # Mean value of the differences between consecutive points\n",
    "    city_infection_rate =  np.mean(subset['totale_casi'].diff(1))\n",
    "    infection_rate = infection_rate.append(pd.DataFrame({'province':[city],'infection_rate':[city_infection_rate]}))\n",
    "infection_rate"
   ]
  },
  {
   "cell_type": "code",
   "execution_count": 77,
   "id": "0658db22",
   "metadata": {},
   "outputs": [],
   "source": [
    "import numpy as np\n",
    "from scipy import stats\n",
    "#NO2 INFECTION MERGE\n",
    "NO2_infections = pd.merge(NO2,infection_rate,left_on=['Provincia'],right_on=['province'])\n",
    "#PM10 INFECTION MERGE\n",
    "PM10_infections = pd.merge(PM10, infection_rate, left_on=['Provincia'], right_on=['province'])\n",
    "#PM2.5 INFECTION MERGE\n",
    "PM25_infections = pd.merge(PM25, infection_rate, left_on=['Provincia'], right_on=['province'])\n"
   ]
  },
  {
   "cell_type": "code",
   "execution_count": 70,
   "id": "c33dd484",
   "metadata": {},
   "outputs": [
    {
     "data": {
      "image/png": "[encoded data removed]",
      "text/plain": [
       "<Figure size 432x288 with 1 Axes>"
      ]
     },
     "metadata": {
      "needs_background": "light"
     },
     "output_type": "display_data"
    },
    {
     "name": "stdout",
     "output_type": "stream",
     "text": [
      "SpearmanrResult(correlation=0.5861709346787326, pvalue=6.260712838089721e-11)\n",
      "(0.6609608744924736, 2.250305407918895e-14)\n",
      "KendalltauResult(correlation=0.4368342693563568, pvalue=8.092069796676477e-11)\n"
     ]
    }
   ],
   "source": [
    "#NO2/COVID CORRELATION\n",
    "NO2_infections.plot.scatter(x='Valore medio annuo³ [µg/m³]', y='infection_rate')\n",
    "plt.show()\n",
    "print(stats.spearmanr(np.array(NO2_infections['Valore medio annuo³ [µg/m³]']), np.array(NO2_infections['infection_rate'])))\n",
    "print(stats.pearsonr(np.array(NO2_infections['Valore medio annuo³ [µg/m³]']), np.array(NO2_infections['infection_rate'])))\n",
    "print(stats.kendalltau(np.array(NO2_infections['Valore medio annuo³ [µg/m³]']), np.array(NO2_infections['infection_rate'])))"
   ]
  },
  {
   "cell_type": "code",
   "execution_count": 71,
   "id": "d4af4492",
   "metadata": {},
   "outputs": [
    {
     "data": {
      "image/png": "[encoded data removed]",
      "text/plain": [
       "<Figure size 432x288 with 1 Axes>"
      ]
     },
     "metadata": {
      "needs_background": "light"
     },
     "output_type": "display_data"
    },
    {
     "name": "stdout",
     "output_type": "stream",
     "text": [
      "SpearmanrResult(correlation=0.46218495508694174, pvalue=1.0076675647577948e-06)\n",
      "(0.364975496580668, 0.0001621948010356304)\n",
      "KendalltauResult(correlation=0.3240744847950217, pvalue=1.5342544927598213e-06)\n"
     ]
    }
   ],
   "source": [
    "#PM10/COVID CORRELATION\n",
    "PM10_infections.plot.scatter(x='Valore medio annuo³ [µg/m³]', y='infection_rate')\n",
    "plt.show()\n",
    "print(stats.spearmanr(np.array(PM10_infections['Valore medio annuo³ [µg/m³]']), np.array(PM10_infections['infection_rate'])))\n",
    "print(stats.pearsonr(np.array(PM10_infections['Valore medio annuo³ [µg/m³]']), np.array(PM10_infections['infection_rate'])))\n",
    "print(stats.kendalltau(np.array(PM10_infections['Valore medio annuo³ [µg/m³]']), np.array(PM10_infections['infection_rate'])))"
   ]
  },
  {
   "cell_type": "code",
   "execution_count": 78,
   "id": "11d8ac42",
   "metadata": {},
   "outputs": [
    {
     "data": {
      "image/png": "[encoded data removed]",
      "text/plain": [
       "<Figure size 432x288 with 1 Axes>"
      ]
     },
     "metadata": {
      "needs_background": "light"
     },
     "output_type": "display_data"
    },
    {
     "name": "stdout",
     "output_type": "stream",
     "text": [
      "SpearmanrResult(correlation=0.46218495508694174, pvalue=1.0076675647577948e-06)\n",
      "(0.364975496580668, 0.0001621948010356304)\n",
      "KendalltauResult(correlation=0.3240744847950217, pvalue=1.5342544927598213e-06)\n"
     ]
    }
   ],
   "source": [
    "#PM25/COVID CORRELATION\n",
    "PM25_infections.plot.scatter(x='Valore medio annuo³ [µg/m³]', y='infection_rate')\n",
    "plt.show()\n",
    "print(stats.spearmanr(np.array(PM25_infections['Valore medio annuo³ [µg/m³]']), np.array(PM25_infections['infection_rate'])))\n",
    "print(stats.pearsonr(np.array(PM25_infections['Valore medio annuo³ [µg/m³]']), np.array(PM25_infections['infection_rate'])))\n",
    "print(stats.kendalltau(np.array(PM25_infections['Valore medio annuo³ [µg/m³]']), np.array(PM25_infections['infection_rate'])))"
   ]
  },
  {
   "cell_type": "code",
   "execution_count": null,
   "id": "5c57272f",
   "metadata": {},
   "outputs": [],
   "source": []
  }
 ],
 "metadata": {
  "kernelspec": {
   "display_name": "Python 3",
   "language": "python",
   "name": "python3"
  },
  "language_info": {
   "codemirror_mode": {
    "name": "ipython",
    "version": 3
   },
   "file_extension": ".py",
   "mimetype": "text/x-python",
   "name": "python",
   "nbconvert_exporter": "python",
   "pygments_lexer": "ipython3",
   "version": "3.8.8"
  }
 },
 "nbformat": 4,
 "nbformat_minor": 5
}

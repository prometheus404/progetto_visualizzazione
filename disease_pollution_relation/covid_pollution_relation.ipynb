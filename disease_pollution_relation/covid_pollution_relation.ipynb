{
 "cells": [
  {
   "cell_type": "code",
   "execution_count": 1,
   "id": "alone-transaction",
   "metadata": {},
   "outputs": [],
   "source": [
    "import pandas as pd\n",
    "import numpy as np\n",
    "import matplotlib.pyplot as plt\n",
    "NO2 = pd.read_csv(\"../csv/pollution_province/NO2_2019.csv\")\n",
    "NO2.drop(NO2.index[(NO2['Valore medio annuo³ [µg/m³]'] == 'n.d.')], inplace=True)\n",
    "NO2.drop(['region_id',\n",
    "          'province_id',\n",
    "          'municipality_id',\n",
    "          'station_code',\n",
    "          'Nome della stazione',\n",
    "          'Tipo di stazione²',\n",
    "          'codice zona',\n",
    "          'Tipo di area¹',\n",
    "          'Rendimento [%]',\n",
    "          'Numero di dati validi',\n",
    "          'nome zona',\n",
    "          'tipo di zona',\n",
    "          'Comune',\n",
    "          'Regione'\n",
    "        ], axis=1, inplace=True)\n",
    "NO2['Valore medio annuo³ [µg/m³]'] = NO2['Valore medio annuo³ [µg/m³]'].apply(int)\n",
    "NO2['Over'] = NO2['Over'].apply(int)\n",
    "NO2 = NO2.groupby(by='Provincia').max()\n",
    "\n",
    "\n",
    "PM10 = pd.read_csv(\"../csv/pollution_province/PM10_2019.csv\")\n",
    "PM10.drop(PM10.index[(PM10['Valore medio annuo³ [µg/m³]'] == '-')], inplace=True)\n",
    "PM10.drop(['region_id',\n",
    "            'province_id',\n",
    "            'municipality_id',\n",
    "            'station_code',\n",
    "            'Nome della stazione',\n",
    "            'Tipo di stazione²',\n",
    "            'Rendimento [%]',\n",
    "            'Comune',\n",
    "            'Regione',\n",
    "            'Rispetta copertura minima',\n",
    "            \"sufficiente distribuzione temporale nell'anno\",\n",
    "            'numero_dati_validi',\n",
    "            'TIPO DI DATI 4',\n",
    "            'Codice zona',\n",
    "            'Nome zona',\n",
    "            'Tipo di zona¹'\n",
    "        ], axis=1, inplace=True)\n",
    "PM10['Valore medio annuo³ [µg/m³]'] = PM10['Valore medio annuo³ [µg/m³]'].apply(int)\n",
    "PM10 = PM10.groupby(by='Provincia').mean()\n",
    "\n",
    "PM25 = pd.read_csv(\"../csv/pollution_province/PM25_2019.csv\")\n",
    "PM25.drop(PM10.index[(PM10['Valore medio annuo³ [µg/m³]'] == '-')], inplace=True)\n",
    "PM25.drop(['region_id',\n",
    "            'province_id',\n",
    "            'municipality_id',\n",
    "            'station_code',\n",
    "            'Nome della stazione',\n",
    "            'Tipo di stazione²',\n",
    "            'Rendimento [%]',\n",
    "            'Comune',\n",
    "            'Regione',\n",
    "            'Rispetta copertura minima',\n",
    "            \"sufficiente distribuzione temporale nell'anno\",\n",
    "            'numero_dati_validi',\n",
    "            'TIPO DI DATI 4',\n",
    "            'Codice zona',\n",
    "            'Nome zona'\n",
    "        ], axis=1, inplace=True)\n",
    "PM25['Valore medio annuo³ [µg/m³]'] = PM10['Valore medio annuo³ [µg/m³]'].apply(int)\n",
    "PM25 = PM10.groupby(by='Provincia').mean()"
   ]
  },
  {
   "cell_type": "code",
   "execution_count": 2,
   "id": "neither-memphis",
   "metadata": {},
   "outputs": [
    {
     "data": {
      "text/html": [
       "<div>\n",
       "<style scoped>\n",
       "    .dataframe tbody tr th:only-of-type {\n",
       "        vertical-align: middle;\n",
       "    }\n",
       "\n",
       "    .dataframe tbody tr th {\n",
       "        vertical-align: top;\n",
       "    }\n",
       "\n",
       "    .dataframe thead th {\n",
       "        text-align: right;\n",
       "    }\n",
       "</style>\n",
       "<table border=\"1\" class=\"dataframe\">\n",
       "  <thead>\n",
       "    <tr style=\"text-align: right;\">\n",
       "      <th></th>\n",
       "      <th>data</th>\n",
       "      <th>stato</th>\n",
       "      <th>codice_regione</th>\n",
       "      <th>denominazione_regione</th>\n",
       "      <th>codice_provincia</th>\n",
       "      <th>denominazione_provincia</th>\n",
       "      <th>sigla_provincia</th>\n",
       "      <th>lat</th>\n",
       "      <th>long</th>\n",
       "      <th>totale_casi</th>\n",
       "      <th>note</th>\n",
       "      <th>codice_nuts_1</th>\n",
       "      <th>codice_nuts_2</th>\n",
       "      <th>codice_nuts_3</th>\n",
       "    </tr>\n",
       "  </thead>\n",
       "  <tbody>\n",
       "    <tr>\n",
       "      <th>0</th>\n",
       "      <td>2020-02-24T18:00:00</td>\n",
       "      <td>ITA</td>\n",
       "      <td>13</td>\n",
       "      <td>Abruzzo</td>\n",
       "      <td>66</td>\n",
       "      <td>L'Aquila</td>\n",
       "      <td>AQ</td>\n",
       "      <td>42.351222</td>\n",
       "      <td>13.398438</td>\n",
       "      <td>0</td>\n",
       "      <td>NaN</td>\n",
       "      <td>NaN</td>\n",
       "      <td>NaN</td>\n",
       "      <td>NaN</td>\n",
       "    </tr>\n",
       "    <tr>\n",
       "      <th>1</th>\n",
       "      <td>2020-02-24T18:00:00</td>\n",
       "      <td>ITA</td>\n",
       "      <td>13</td>\n",
       "      <td>Abruzzo</td>\n",
       "      <td>67</td>\n",
       "      <td>Teramo</td>\n",
       "      <td>TE</td>\n",
       "      <td>42.658918</td>\n",
       "      <td>13.704400</td>\n",
       "      <td>0</td>\n",
       "      <td>NaN</td>\n",
       "      <td>NaN</td>\n",
       "      <td>NaN</td>\n",
       "      <td>NaN</td>\n",
       "    </tr>\n",
       "    <tr>\n",
       "      <th>2</th>\n",
       "      <td>2020-02-24T18:00:00</td>\n",
       "      <td>ITA</td>\n",
       "      <td>13</td>\n",
       "      <td>Abruzzo</td>\n",
       "      <td>68</td>\n",
       "      <td>Pescara</td>\n",
       "      <td>PE</td>\n",
       "      <td>42.464584</td>\n",
       "      <td>14.213648</td>\n",
       "      <td>0</td>\n",
       "      <td>NaN</td>\n",
       "      <td>NaN</td>\n",
       "      <td>NaN</td>\n",
       "      <td>NaN</td>\n",
       "    </tr>\n",
       "    <tr>\n",
       "      <th>3</th>\n",
       "      <td>2020-02-24T18:00:00</td>\n",
       "      <td>ITA</td>\n",
       "      <td>13</td>\n",
       "      <td>Abruzzo</td>\n",
       "      <td>69</td>\n",
       "      <td>Chieti</td>\n",
       "      <td>CH</td>\n",
       "      <td>42.351032</td>\n",
       "      <td>14.167546</td>\n",
       "      <td>0</td>\n",
       "      <td>NaN</td>\n",
       "      <td>NaN</td>\n",
       "      <td>NaN</td>\n",
       "      <td>NaN</td>\n",
       "    </tr>\n",
       "    <tr>\n",
       "      <th>4</th>\n",
       "      <td>2020-02-24T18:00:00</td>\n",
       "      <td>ITA</td>\n",
       "      <td>13</td>\n",
       "      <td>Abruzzo</td>\n",
       "      <td>979</td>\n",
       "      <td>In fase di definizione/aggiornamento</td>\n",
       "      <td>NaN</td>\n",
       "      <td>NaN</td>\n",
       "      <td>NaN</td>\n",
       "      <td>0</td>\n",
       "      <td>NaN</td>\n",
       "      <td>NaN</td>\n",
       "      <td>NaN</td>\n",
       "      <td>NaN</td>\n",
       "    </tr>\n",
       "    <tr>\n",
       "      <th>...</th>\n",
       "      <td>...</td>\n",
       "      <td>...</td>\n",
       "      <td>...</td>\n",
       "      <td>...</td>\n",
       "      <td>...</td>\n",
       "      <td>...</td>\n",
       "      <td>...</td>\n",
       "      <td>...</td>\n",
       "      <td>...</td>\n",
       "      <td>...</td>\n",
       "      <td>...</td>\n",
       "      <td>...</td>\n",
       "      <td>...</td>\n",
       "      <td>...</td>\n",
       "    </tr>\n",
       "    <tr>\n",
       "      <th>65973</th>\n",
       "      <td>2021-05-28T17:00:00</td>\n",
       "      <td>ITA</td>\n",
       "      <td>5</td>\n",
       "      <td>Veneto</td>\n",
       "      <td>27</td>\n",
       "      <td>Venezia</td>\n",
       "      <td>VE</td>\n",
       "      <td>45.434905</td>\n",
       "      <td>12.338452</td>\n",
       "      <td>69305</td>\n",
       "      <td>NaN</td>\n",
       "      <td>ITH</td>\n",
       "      <td>ITH3</td>\n",
       "      <td>ITH35</td>\n",
       "    </tr>\n",
       "    <tr>\n",
       "      <th>65974</th>\n",
       "      <td>2021-05-28T17:00:00</td>\n",
       "      <td>ITA</td>\n",
       "      <td>5</td>\n",
       "      <td>Veneto</td>\n",
       "      <td>28</td>\n",
       "      <td>Padova</td>\n",
       "      <td>PD</td>\n",
       "      <td>45.406930</td>\n",
       "      <td>11.876087</td>\n",
       "      <td>81247</td>\n",
       "      <td>NaN</td>\n",
       "      <td>ITH</td>\n",
       "      <td>ITH3</td>\n",
       "      <td>ITH36</td>\n",
       "    </tr>\n",
       "    <tr>\n",
       "      <th>65975</th>\n",
       "      <td>2021-05-28T17:00:00</td>\n",
       "      <td>ITA</td>\n",
       "      <td>5</td>\n",
       "      <td>Veneto</td>\n",
       "      <td>29</td>\n",
       "      <td>Rovigo</td>\n",
       "      <td>RO</td>\n",
       "      <td>45.071073</td>\n",
       "      <td>11.790070</td>\n",
       "      <td>13934</td>\n",
       "      <td>NaN</td>\n",
       "      <td>ITH</td>\n",
       "      <td>ITH3</td>\n",
       "      <td>ITH37</td>\n",
       "    </tr>\n",
       "    <tr>\n",
       "      <th>65976</th>\n",
       "      <td>2021-05-28T17:00:00</td>\n",
       "      <td>ITA</td>\n",
       "      <td>5</td>\n",
       "      <td>Veneto</td>\n",
       "      <td>899</td>\n",
       "      <td>Fuori Regione / Provincia Autonoma</td>\n",
       "      <td>NaN</td>\n",
       "      <td>NaN</td>\n",
       "      <td>NaN</td>\n",
       "      <td>5329</td>\n",
       "      <td>NaN</td>\n",
       "      <td>ITH</td>\n",
       "      <td>ITH3</td>\n",
       "      <td>NaN</td>\n",
       "    </tr>\n",
       "    <tr>\n",
       "      <th>65977</th>\n",
       "      <td>2021-05-28T17:00:00</td>\n",
       "      <td>ITA</td>\n",
       "      <td>5</td>\n",
       "      <td>Veneto</td>\n",
       "      <td>999</td>\n",
       "      <td>In fase di definizione/aggiornamento</td>\n",
       "      <td>NaN</td>\n",
       "      <td>NaN</td>\n",
       "      <td>NaN</td>\n",
       "      <td>760</td>\n",
       "      <td>NaN</td>\n",
       "      <td>ITH</td>\n",
       "      <td>ITH3</td>\n",
       "      <td>NaN</td>\n",
       "    </tr>\n",
       "  </tbody>\n",
       "</table>\n",
       "<p>65978 rows × 14 columns</p>\n",
       "</div>"
      ],
      "text/plain": [
       "                      data stato  codice_regione denominazione_regione  \\\n",
       "0      2020-02-24T18:00:00   ITA              13               Abruzzo   \n",
       "1      2020-02-24T18:00:00   ITA              13               Abruzzo   \n",
       "2      2020-02-24T18:00:00   ITA              13               Abruzzo   \n",
       "3      2020-02-24T18:00:00   ITA              13               Abruzzo   \n",
       "4      2020-02-24T18:00:00   ITA              13               Abruzzo   \n",
       "...                    ...   ...             ...                   ...   \n",
       "65973  2021-05-28T17:00:00   ITA               5                Veneto   \n",
       "65974  2021-05-28T17:00:00   ITA               5                Veneto   \n",
       "65975  2021-05-28T17:00:00   ITA               5                Veneto   \n",
       "65976  2021-05-28T17:00:00   ITA               5                Veneto   \n",
       "65977  2021-05-28T17:00:00   ITA               5                Veneto   \n",
       "\n",
       "       codice_provincia               denominazione_provincia sigla_provincia  \\\n",
       "0                    66                              L'Aquila              AQ   \n",
       "1                    67                                Teramo              TE   \n",
       "2                    68                               Pescara              PE   \n",
       "3                    69                                Chieti              CH   \n",
       "4                   979  In fase di definizione/aggiornamento             NaN   \n",
       "...                 ...                                   ...             ...   \n",
       "65973                27                               Venezia              VE   \n",
       "65974                28                                Padova              PD   \n",
       "65975                29                                Rovigo              RO   \n",
       "65976               899    Fuori Regione / Provincia Autonoma             NaN   \n",
       "65977               999  In fase di definizione/aggiornamento             NaN   \n",
       "\n",
       "             lat       long  totale_casi note codice_nuts_1 codice_nuts_2  \\\n",
       "0      42.351222  13.398438            0  NaN           NaN           NaN   \n",
       "1      42.658918  13.704400            0  NaN           NaN           NaN   \n",
       "2      42.464584  14.213648            0  NaN           NaN           NaN   \n",
       "3      42.351032  14.167546            0  NaN           NaN           NaN   \n",
       "4            NaN        NaN            0  NaN           NaN           NaN   \n",
       "...          ...        ...          ...  ...           ...           ...   \n",
       "65973  45.434905  12.338452        69305  NaN           ITH          ITH3   \n",
       "65974  45.406930  11.876087        81247  NaN           ITH          ITH3   \n",
       "65975  45.071073  11.790070        13934  NaN           ITH          ITH3   \n",
       "65976        NaN        NaN         5329  NaN           ITH          ITH3   \n",
       "65977        NaN        NaN          760  NaN           ITH          ITH3   \n",
       "\n",
       "      codice_nuts_3  \n",
       "0               NaN  \n",
       "1               NaN  \n",
       "2               NaN  \n",
       "3               NaN  \n",
       "4               NaN  \n",
       "...             ...  \n",
       "65973         ITH35  \n",
       "65974         ITH36  \n",
       "65975         ITH37  \n",
       "65976           NaN  \n",
       "65977           NaN  \n",
       "\n",
       "[65978 rows x 14 columns]"
      ]
     },
     "execution_count": 2,
     "metadata": {},
     "output_type": "execute_result"
    }
   ],
   "source": [
    "infections = pd.read_csv(\"../csv/dpc-covid19-ita-province.csv\", low_memory=False)\n",
    "infection_rate = pd.DataFrame({'province':[],'infection_rate':[]})\n",
    "infection_rate_2 = pd.DataFrame({'province':[],'infection_rate':[]})\n",
    "\n",
    "infections"
   ]
  },
  {
   "cell_type": "code",
   "execution_count": 3,
   "id": "derived-tamil",
   "metadata": {},
   "outputs": [],
   "source": [
    "for city in infections['denominazione_provincia'].unique():\n",
    "    # Only get days when there have been infected people\n",
    "    subset = infections[(infections['denominazione_provincia'] == city) & (infections['totale_casi'] > 0)].sort_values('data')\n",
    "  \n",
    "    # Mean value of the differences between consecutive points\n",
    "    city_infection_rate =  np.mean(subset['totale_casi'].diff(1))\n",
    "    infection_rate = infection_rate.append(pd.DataFrame({'province':[city],'infection_rate':[city_infection_rate]}))"
   ]
  },
  {
   "cell_type": "code",
   "execution_count": 4,
   "id": "severe-jordan",
   "metadata": {},
   "outputs": [
    {
     "data": {
      "text/html": [
       "<div>\n",
       "<style scoped>\n",
       "    .dataframe tbody tr th:only-of-type {\n",
       "        vertical-align: middle;\n",
       "    }\n",
       "\n",
       "    .dataframe tbody tr th {\n",
       "        vertical-align: top;\n",
       "    }\n",
       "\n",
       "    .dataframe thead th {\n",
       "        text-align: right;\n",
       "    }\n",
       "</style>\n",
       "<table border=\"1\" class=\"dataframe\">\n",
       "  <thead>\n",
       "    <tr style=\"text-align: right;\">\n",
       "      <th></th>\n",
       "      <th>province</th>\n",
       "      <th>infection_rate</th>\n",
       "    </tr>\n",
       "  </thead>\n",
       "  <tbody>\n",
       "    <tr>\n",
       "      <th>0</th>\n",
       "      <td>Milano</td>\n",
       "      <td>588.006550</td>\n",
       "    </tr>\n",
       "    <tr>\n",
       "      <th>0</th>\n",
       "      <td>Napoli</td>\n",
       "      <td>539.151316</td>\n",
       "    </tr>\n",
       "    <tr>\n",
       "      <th>0</th>\n",
       "      <td>Roma</td>\n",
       "      <td>532.624454</td>\n",
       "    </tr>\n",
       "    <tr>\n",
       "      <th>0</th>\n",
       "      <td>Torino</td>\n",
       "      <td>421.530568</td>\n",
       "    </tr>\n",
       "    <tr>\n",
       "      <th>0</th>\n",
       "      <td>Brescia</td>\n",
       "      <td>230.884026</td>\n",
       "    </tr>\n",
       "    <tr>\n",
       "      <th>0</th>\n",
       "      <td>Bari</td>\n",
       "      <td>208.366446</td>\n",
       "    </tr>\n",
       "    <tr>\n",
       "      <th>0</th>\n",
       "      <td>Bologna</td>\n",
       "      <td>204.233480</td>\n",
       "    </tr>\n",
       "    <tr>\n",
       "      <th>0</th>\n",
       "      <td>Varese</td>\n",
       "      <td>186.903297</td>\n",
       "    </tr>\n",
       "    <tr>\n",
       "      <th>0</th>\n",
       "      <td>Verona</td>\n",
       "      <td>180.556291</td>\n",
       "    </tr>\n",
       "    <tr>\n",
       "      <th>0</th>\n",
       "      <td>Padova</td>\n",
       "      <td>177.329694</td>\n",
       "    </tr>\n",
       "  </tbody>\n",
       "</table>\n",
       "</div>"
      ],
      "text/plain": [
       "  province  infection_rate\n",
       "0   Milano      588.006550\n",
       "0   Napoli      539.151316\n",
       "0     Roma      532.624454\n",
       "0   Torino      421.530568\n",
       "0  Brescia      230.884026\n",
       "0     Bari      208.366446\n",
       "0  Bologna      204.233480\n",
       "0   Varese      186.903297\n",
       "0   Verona      180.556291\n",
       "0   Padova      177.329694"
      ]
     },
     "execution_count": 4,
     "metadata": {},
     "output_type": "execute_result"
    }
   ],
   "source": [
    "infection_rate.sort_values('infection_rate',ascending=False).head(10)"
   ]
  },
  {
   "cell_type": "code",
   "execution_count": 5,
   "id": "social-serve",
   "metadata": {},
   "outputs": [],
   "source": [
    "import numpy as np\n",
    "from scipy import stats\n",
    "#NO2 INFECTION MERGE\n",
    "NO2_infections = pd.merge(NO2,infection_rate,left_on=['Provincia'],right_on=['province'])\n",
    "#PM10 INFECTION MERGE\n",
    "PM10_infections = pd.merge(PM10, infection_rate, left_on=['Provincia'], right_on=['province'])\n",
    "#PM2.5 INFECTION MERGE\n",
    "PM25_infections = pd.merge(PM25, infection_rate, left_on=['Provincia'], right_on=['province'])"
   ]
  },
  {
   "cell_type": "code",
   "execution_count": 6,
   "id": "italic-celebrity",
   "metadata": {},
   "outputs": [
    {
     "data": {
      "image/png": "[encoded data removed]",
      "text/plain": [
       "<Figure size 432x288 with 1 Axes>"
      ]
     },
     "metadata": {
      "needs_background": "light"
     },
     "output_type": "display_data"
    },
    {
     "name": "stdout",
     "output_type": "stream",
     "text": [
      "SpearmanrResult(correlation=0.5861709346787326, pvalue=6.260712838089721e-11)\n",
      "(0.6609608744924734, 2.25030540791894e-14)\n",
      "KendalltauResult(correlation=0.4368342693563568, pvalue=8.092069796676477e-11)\n"
     ]
    }
   ],
   "source": [
    "#NO2/COVID CORRELATION\n",
    "NO2_infections.plot.scatter(x='Valore medio annuo³ [µg/m³]', y='infection_rate')\n",
    "plt.show()\n",
    "print(stats.spearmanr(np.array(NO2_infections['Valore medio annuo³ [µg/m³]']), np.array(NO2_infections['infection_rate'])))\n",
    "print(stats.pearsonr(np.array(NO2_infections['Valore medio annuo³ [µg/m³]']), np.array(NO2_infections['infection_rate'])))\n",
    "print(stats.kendalltau(np.array(NO2_infections['Valore medio annuo³ [µg/m³]']), np.array(NO2_infections['infection_rate'])))"
   ]
  },
  {
   "cell_type": "code",
   "execution_count": 7,
   "id": "rational-edwards",
   "metadata": {},
   "outputs": [
    {
     "data": {
      "image/png": "[encoded data removed]",
      "text/plain": [
       "<Figure size 432x288 with 1 Axes>"
      ]
     },
     "metadata": {
      "needs_background": "light"
     },
     "output_type": "display_data"
    },
    {
     "name": "stdout",
     "output_type": "stream",
     "text": [
      "SpearmanrResult(correlation=0.46218495508694174, pvalue=1.0076675647577948e-06)\n",
      "(0.364975496580668, 0.0001621948010356304)\n",
      "KendalltauResult(correlation=0.3240744847950217, pvalue=1.5342544927598213e-06)\n"
     ]
    }
   ],
   "source": [
    "#PM10/COVID CORRELATION\n",
    "PM10_infections.plot.scatter(x='Valore medio annuo³ [µg/m³]', y='infection_rate')\n",
    "plt.show()\n",
    "print(stats.spearmanr(np.array(PM10_infections['Valore medio annuo³ [µg/m³]']), np.array(PM10_infections['infection_rate'])))\n",
    "print(stats.pearsonr(np.array(PM10_infections['Valore medio annuo³ [µg/m³]']), np.array(PM10_infections['infection_rate'])))\n",
    "print(stats.kendalltau(np.array(PM10_infections['Valore medio annuo³ [µg/m³]']), np.array(PM10_infections['infection_rate'])))"
   ]
  },
  {
   "cell_type": "code",
   "execution_count": 8,
   "id": "magnetic-pursuit",
   "metadata": {},
   "outputs": [
    {
     "data": {
      "image/png": "[encoded data removed]",
      "text/plain": [
       "<Figure size 432x288 with 1 Axes>"
      ]
     },
     "metadata": {
      "needs_background": "light"
     },
     "output_type": "display_data"
    },
    {
     "name": "stdout",
     "output_type": "stream",
     "text": [
      "SpearmanrResult(correlation=0.46218495508694174, pvalue=1.0076675647577948e-06)\n",
      "(0.364975496580668, 0.0001621948010356304)\n",
      "KendalltauResult(correlation=0.3240744847950217, pvalue=1.5342544927598213e-06)\n"
     ]
    }
   ],
   "source": [
    "#PM25/COVID CORRELATION\n",
    "PM25_infections.plot.scatter(x='Valore medio annuo³ [µg/m³]', y='infection_rate')\n",
    "plt.show()\n",
    "print(stats.spearmanr(np.array(PM25_infections['Valore medio annuo³ [µg/m³]']), np.array(PM25_infections['infection_rate'])))\n",
    "print(stats.pearsonr(np.array(PM25_infections['Valore medio annuo³ [µg/m³]']), np.array(PM25_infections['infection_rate'])))\n",
    "print(stats.kendalltau(np.array(PM25_infections['Valore medio annuo³ [µg/m³]']), np.array(PM25_infections['infection_rate'])))"
   ]
  },
  {
   "cell_type": "code",
   "execution_count": 9,
   "id": "creative-thesaurus",
   "metadata": {},
   "outputs": [],
   "source": [
    "for city in infections['denominazione_provincia'].unique():\n",
    "    # Only get days when there have been infected people\n",
    "    subset = infections[(infections['denominazione_provincia'] == city) & (infections['totale_casi'] > 0)].sort_values('data')\n",
    "  \n",
    "    # Mean value of the differences between consecutive points\n",
    "    rate = subset['totale_casi'].diff(1).divide(subset['totale_casi'])*100\n",
    "    \n",
    "    city_infection_rate_2 = np.mean(rate)\n",
    "    \n",
    "    infection_rate_2 = infection_rate_2.append(pd.DataFrame({'province':[city],'infection_rate':[city_infection_rate_2]}))"
   ]
  },
  {
   "cell_type": "code",
   "execution_count": 10,
   "id": "aquatic-construction",
   "metadata": {},
   "outputs": [
    {
     "data": {
      "text/html": [
       "<div>\n",
       "<style scoped>\n",
       "    .dataframe tbody tr th:only-of-type {\n",
       "        vertical-align: middle;\n",
       "    }\n",
       "\n",
       "    .dataframe tbody tr th {\n",
       "        vertical-align: top;\n",
       "    }\n",
       "\n",
       "    .dataframe thead th {\n",
       "        text-align: right;\n",
       "    }\n",
       "</style>\n",
       "<table border=\"1\" class=\"dataframe\">\n",
       "  <thead>\n",
       "    <tr style=\"text-align: right;\">\n",
       "      <th></th>\n",
       "      <th>province</th>\n",
       "      <th>infection_rate</th>\n",
       "    </tr>\n",
       "  </thead>\n",
       "  <tbody>\n",
       "    <tr>\n",
       "      <th>0</th>\n",
       "      <td>Bari</td>\n",
       "      <td>2.263284</td>\n",
       "    </tr>\n",
       "    <tr>\n",
       "      <th>0</th>\n",
       "      <td>Roma</td>\n",
       "      <td>2.211576</td>\n",
       "    </tr>\n",
       "    <tr>\n",
       "      <th>0</th>\n",
       "      <td>Como</td>\n",
       "      <td>2.127370</td>\n",
       "    </tr>\n",
       "    <tr>\n",
       "      <th>0</th>\n",
       "      <td>Napoli</td>\n",
       "      <td>2.123219</td>\n",
       "    </tr>\n",
       "    <tr>\n",
       "      <th>0</th>\n",
       "      <td>Bologna</td>\n",
       "      <td>2.116130</td>\n",
       "    </tr>\n",
       "    <tr>\n",
       "      <th>0</th>\n",
       "      <td>Foggia</td>\n",
       "      <td>2.072532</td>\n",
       "    </tr>\n",
       "    <tr>\n",
       "      <th>0</th>\n",
       "      <td>Varese</td>\n",
       "      <td>2.067925</td>\n",
       "    </tr>\n",
       "    <tr>\n",
       "      <th>0</th>\n",
       "      <td>Cuneo</td>\n",
       "      <td>2.054818</td>\n",
       "    </tr>\n",
       "    <tr>\n",
       "      <th>0</th>\n",
       "      <td>Barletta-Andria-Trani</td>\n",
       "      <td>2.045049</td>\n",
       "    </tr>\n",
       "    <tr>\n",
       "      <th>0</th>\n",
       "      <td>Milano</td>\n",
       "      <td>2.041100</td>\n",
       "    </tr>\n",
       "  </tbody>\n",
       "</table>\n",
       "</div>"
      ],
      "text/plain": [
       "                province  infection_rate\n",
       "0                   Bari        2.263284\n",
       "0                   Roma        2.211576\n",
       "0                   Como        2.127370\n",
       "0                 Napoli        2.123219\n",
       "0                Bologna        2.116130\n",
       "0                 Foggia        2.072532\n",
       "0                 Varese        2.067925\n",
       "0                  Cuneo        2.054818\n",
       "0  Barletta-Andria-Trani        2.045049\n",
       "0                 Milano        2.041100"
      ]
     },
     "execution_count": 10,
     "metadata": {},
     "output_type": "execute_result"
    }
   ],
   "source": [
    "infection_rate_2.sort_values('infection_rate',ascending=False).head(10)"
   ]
  },
  {
   "cell_type": "code",
   "execution_count": 11,
   "id": "monetary-contributor",
   "metadata": {},
   "outputs": [],
   "source": [
    "import numpy as np\n",
    "from scipy import stats\n",
    "#NO2 INFECTION MERGE\n",
    "NO2_infections = pd.merge(NO2,infection_rate_2,left_on=['Provincia'],right_on=['province'])\n",
    "#PM10 INFECTION MERGE\n",
    "PM10_infections = pd.merge(PM10, infection_rate_2, left_on=['Provincia'], right_on=['province'])\n",
    "#PM2.5 INFECTION MERGE\n",
    "PM25_infections = pd.merge(PM25, infection_rate_2, left_on=['Provincia'], right_on=['province'])\n"
   ]
  },
  {
   "cell_type": "code",
   "execution_count": 12,
   "id": "jewish-combining",
   "metadata": {},
   "outputs": [
    {
     "data": {
      "image/png": "[encoded data removed]",
      "text/plain": [
       "<Figure size 432x288 with 1 Axes>"
      ]
     },
     "metadata": {
      "needs_background": "light"
     },
     "output_type": "display_data"
    },
    {
     "name": "stdout",
     "output_type": "stream",
     "text": [
      "SpearmanrResult(correlation=0.16224788717838873, pvalue=0.09985957301580084)\n",
      "(0.07742699837387361, 0.43466487678459265)\n",
      "KendalltauResult(correlation=0.11525471639592458, pvalue=0.08640581298215315)\n"
     ]
    }
   ],
   "source": [
    "#NO2/COVID CORRELATION\n",
    "NO2_infections.plot.scatter(x='Valore medio annuo³ [µg/m³]', y='infection_rate')\n",
    "plt.show()\n",
    "print(stats.spearmanr(np.array(NO2_infections['Valore medio annuo³ [µg/m³]']), np.array(NO2_infections['infection_rate'])))\n",
    "print(stats.pearsonr(np.array(NO2_infections['Valore medio annuo³ [µg/m³]']), np.array(NO2_infections['infection_rate'])))\n",
    "print(stats.kendalltau(np.array(NO2_infections['Valore medio annuo³ [µg/m³]']), np.array(NO2_infections['infection_rate'])))"
   ]
  },
  {
   "cell_type": "code",
   "execution_count": 13,
   "id": "emerging-herald",
   "metadata": {},
   "outputs": [
    {
     "data": {
      "image/png": "[encoded data removed]",
      "text/plain": [
       "<Figure size 432x288 with 1 Axes>"
      ]
     },
     "metadata": {
      "needs_background": "light"
     },
     "output_type": "display_data"
    },
    {
     "name": "stdout",
     "output_type": "stream",
     "text": [
      "SpearmanrResult(correlation=0.18424959884022943, pvalue=0.06376767631471424)\n",
      "(0.045556810223726055, 0.6493489184650199)\n",
      "KendalltauResult(correlation=0.12596396942092902, pvalue=0.061717960220654004)\n"
     ]
    }
   ],
   "source": [
    "#PM10/COVID CORRELATION\n",
    "PM10_infections.plot.scatter(x='Valore medio annuo³ [µg/m³]', y='infection_rate')\n",
    "plt.show()\n",
    "print(stats.spearmanr(np.array(PM10_infections['Valore medio annuo³ [µg/m³]']), np.array(PM10_infections['infection_rate'])))\n",
    "print(stats.pearsonr(np.array(PM10_infections['Valore medio annuo³ [µg/m³]']), np.array(PM10_infections['infection_rate'])))\n",
    "print(stats.kendalltau(np.array(PM10_infections['Valore medio annuo³ [µg/m³]']), np.array(PM10_infections['infection_rate'])))"
   ]
  },
  {
   "cell_type": "code",
   "execution_count": 14,
   "id": "distinct-poetry",
   "metadata": {},
   "outputs": [
    {
     "data": {
      "image/png": "[encoded data removed]",
      "text/plain": [
       "<Figure size 432x288 with 1 Axes>"
      ]
     },
     "metadata": {
      "needs_background": "light"
     },
     "output_type": "display_data"
    },
    {
     "name": "stdout",
     "output_type": "stream",
     "text": [
      "SpearmanrResult(correlation=0.18424959884022943, pvalue=0.06376767631471424)\n",
      "(0.045556810223726055, 0.6493489184650199)\n",
      "KendalltauResult(correlation=0.12596396942092902, pvalue=0.061717960220654004)\n"
     ]
    }
   ],
   "source": [
    "#PM25/COVID CORRELATION\n",
    "PM25_infections.plot.scatter(x='Valore medio annuo³ [µg/m³]', y='infection_rate')\n",
    "plt.show()\n",
    "print(stats.spearmanr(np.array(PM25_infections['Valore medio annuo³ [µg/m³]']), np.array(PM25_infections['infection_rate'])))\n",
    "print(stats.pearsonr(np.array(PM25_infections['Valore medio annuo³ [µg/m³]']), np.array(PM25_infections['infection_rate'])))\n",
    "print(stats.kendalltau(np.array(PM25_infections['Valore medio annuo³ [µg/m³]']), np.array(PM25_infections['infection_rate'])))"
   ]
  },
  {
   "cell_type": "code",
   "execution_count": null,
   "id": "plastic-injury",
   "metadata": {},
   "outputs": [],
   "source": []
  }
 ],
 "metadata": {
  "kernelspec": {
   "display_name": "Python 3",
   "language": "python",
   "name": "python3"
  },
  "language_info": {
   "codemirror_mode": {
    "name": "ipython",
    "version": 3
   },
   "file_extension": ".py",
   "mimetype": "text/x-python",
   "name": "python",
   "nbconvert_exporter": "python",
   "pygments_lexer": "ipython3",
   "version": "3.8.5"
  }
 },
 "nbformat": 4,
 "nbformat_minor": 5
}

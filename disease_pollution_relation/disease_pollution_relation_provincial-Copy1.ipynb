{
 "cells": [
  {
   "cell_type": "code",
   "execution_count": null,
   "metadata": {},
   "outputs": [],
   "source": [
    "import pandas as pd\n",
    "import numpy as np\n",
    "import matplotlib.pyplot as plt\n",
    "import scipy\n",
    "from scipy import stats\n",
    "\n",
    "def relation(cause_morte):\n",
    "    morti=pd.read_csv('../csv/Morti_province_definitivo.csv', encoding='utf-8')\n",
    "\n",
    "    morti.drop(morti.index[(morti[\"TIPO_DATO15\"]==\"DEATH\")], axis=0, inplace=True)\n",
    "    morti.drop(morti.index[(morti[\"Causa iniziale di morte - European Short List\"]!=cause_morte)], axis=0, inplace=True)\n",
    "    morti.drop(morti.index[(morti[\"Sesso\"]!=\"totale\")], axis=0, inplace=True)\n",
    "    return morti\n",
    "#morti"
   ]
  },
  {
   "cell_type": "code",
   "execution_count": null,
   "metadata": {},
   "outputs": [],
   "source": [
    "def provinces(pollutant):\n",
    "    pollution = pd.read_csv('../csv/pollution_province/'+pollutant+'_2019.csv')\n",
    "    pollution = pollution[['Provincia', 'Valore medio annuo³ [µg/m³]']]\n",
    "    pollution.drop(pollution.index[(pollution['Valore medio annuo³ [µg/m³]']==\"-\")], axis=0, inplace=True)\n",
    "    pollution.drop(pollution.index[(pollution['Valore medio annuo³ [µg/m³]']==\"n.d.\")], axis=0, inplace=True)\n",
    "    pollution['Valore medio annuo³ [µg/m³]'] = pollution['Valore medio annuo³ [µg/m³]'].apply(int)\n",
    "    pollution = pollution.groupby(by='Provincia').mean()\n",
    "    return pollution\n",
    "provinces(\"NO2\")"
   ]
  },
  {
   "cell_type": "code",
   "execution_count": null,
   "metadata": {},
   "outputs": [],
   "source": [
    "def pollution_choose(pollutant, cause_morti):\n",
    "    \n",
    "    ds_inq=provinces(pollutant)\n",
    "    ds_death=relation(cause_morti)\n",
    "    \n",
    "    ds_tot=pd.merge(ds_inq, ds_death, right_on=\"Territorio\", left_on=\"Provincia\")\n",
    "    ds_tot=ds_tot[['Territorio','Valore medio annuo³ [µg/m³]','Value']]\n",
    "    \n",
    "    ds_tot.plot.scatter(x='Valore medio annuo³ [µg/m³]', y='Value')\n",
    "    x=np.array(ds_tot['Valore medio annuo³ [µg/m³]'])\n",
    "    y=np.array(ds_tot['Value'])\n",
    "    plt.show()\n",
    "    #Pearson\n",
    "    print(scipy.stats.pearsonr(x, y))\n",
    "    #Spearman\n",
    "    print(scipy.stats.spearmanr(x, y))\n",
    "    #Kendall\n",
    "    print(scipy.stats.kendalltau(x, y))\n",
    "#pollution_choose(\"NO2\", \"influenza\")"
   ]
  },
  {
   "cell_type": "code",
   "execution_count": null,
   "metadata": {
    "scrolled": true
   },
   "outputs": [],
   "source": [
    "morti=pd.read_csv('../csv/Morti_province_definitivo.csv', encoding='utf-8')\n",
    "s=morti['Causa iniziale di morte - European Short List'].unique()\n",
    "for x in s:\n",
    "    print(x)"
   ]
  },
  {
   "cell_type": "code",
   "execution_count": null,
   "metadata": {},
   "outputs": [],
   "source": [
    "#di cui tumori maligni della trachea, dei bronchi e dei polmoni #\n",
    "desease=\"di cui tumori maligni della trachea, dei bronchi e dei polmoni\"\n",
    "pollution_choose(\"PM10\", desease)\n",
    "pollution_choose(\"PM25\", desease)#\n",
    "pollution_choose(\"NO2\", desease)###"
   ]
  },
  {
   "cell_type": "code",
   "execution_count": null,
   "metadata": {},
   "outputs": [],
   "source": [
    "#di cui tumori maligni della prostata\n",
    "desease=\"di cui tumori maligni della prostata\"\n",
    "pollution_choose(\"PM10\", desease)\n",
    "pollution_choose(\"PM25\", desease)\n",
    "pollution_choose(\"NO2\", desease)"
   ]
  },
  {
   "cell_type": "code",
   "execution_count": null,
   "metadata": {},
   "outputs": [],
   "source": [
    "#du cui altre malattie ischemiche del cuore\n",
    "desease=\"du cui altre malattie ischemiche del cuore\"\n",
    "pollution_choose(\"PM10\", desease)\n",
    "pollution_choose(\"PM25\", desease)\n",
    "pollution_choose(\"NO2\", desease)"
   ]
  },
  {
   "cell_type": "code",
   "execution_count": null,
   "metadata": {},
   "outputs": [],
   "source": [
    "#altre malattie del sistema circolatorio\n",
    "desease=\"altre malattie del sistema circolatorio\"\n",
    "pollution_choose(\"PM10\", desease)\n",
    "pollution_choose(\"PM25\", desease)\n",
    "pollution_choose(\"NO2\", desease)"
   ]
  },
  {
   "cell_type": "code",
   "execution_count": null,
   "metadata": {},
   "outputs": [],
   "source": [
    "#di cui tumori maligni delle labbra, cavità orale e faringe \n",
    "desease=\"di cui tumori maligni delle labbra, cavità orale e faringe\"\n",
    "pollution_choose(\"PM10\", desease)\n",
    "pollution_choose(\"PM25\", desease)\n",
    "pollution_choose(\"NO2\", desease)"
   ]
  },
  {
   "cell_type": "code",
   "execution_count": null,
   "metadata": {},
   "outputs": [],
   "source": [
    "#altre malattie del sistema nervoso e degli organi di senso #\n",
    "desease=\"altre malattie del sistema nervoso e degli organi di senso\"\n",
    "pollution_choose(\"PM10\", desease)\n",
    "pollution_choose(\"PM25\", desease)#\n",
    "pollution_choose(\"NO2\", desease)"
   ]
  },
  {
   "cell_type": "code",
   "execution_count": null,
   "metadata": {},
   "outputs": [],
   "source": [
    "#di cui tumori maligni del cervello e del sistema nervoso centrale\n",
    "desease=\"di cui tumori maligni del cervello e del sistema nervoso centrale\"\n",
    "pollution_choose(\"PM10\", desease)\n",
    "pollution_choose(\"PM25\", desease)\n",
    "pollution_choose(\"NO2\", desease)"
   ]
  },
  {
   "cell_type": "code",
   "execution_count": null,
   "metadata": {},
   "outputs": [],
   "source": [
    "#di cui leucemia\n",
    "desease=\"di cui leucemia\"\n",
    "pollution_choose(\"PM10\", desease)\n",
    "pollution_choose(\"PM25\", desease)\n",
    "pollution_choose(\"NO2\", desease)"
   ]
  },
  {
   "cell_type": "code",
   "execution_count": null,
   "metadata": {},
   "outputs": [],
   "source": [
    "#tumori non maligni (benigni e di comportamento incerto) \n",
    "desease=\"tumori non maligni (benigni e di comportamento incerto)\"\n",
    "pollution_choose(\"PM10\", desease)\n",
    "pollution_choose(\"PM25\", desease)\n",
    "pollution_choose(\"NO2\", desease)"
   ]
  },
  {
   "cell_type": "code",
   "execution_count": null,
   "metadata": {},
   "outputs": [],
   "source": [
    "#di cui altre malattie croniche delle basse vie respiratorie\n",
    "desease=\"di cui altre malattie croniche delle basse vie respiratorie\"\n",
    "pollution_choose(\"PM10\", desease)\n",
    "pollution_choose(\"PM25\", desease)\n",
    "pollution_choose(\"NO2\", desease)"
   ]
  },
  {
   "cell_type": "code",
   "execution_count": null,
   "metadata": {},
   "outputs": [],
   "source": [
    "#di cui morbo di hodgkin e linfomi \n",
    "desease=\"di cui morbo di hodgkin e linfomi\"\n",
    "pollution_choose(\"PM10\", desease)\n",
    "pollution_choose(\"PM25\", desease)\n",
    "pollution_choose(\"NO2\", desease)"
   ]
  },
  {
   "cell_type": "code",
   "execution_count": null,
   "metadata": {},
   "outputs": [],
   "source": [
    "#di cui altri tumori maligni #\n",
    "desease=\"di cui altri tumori maligni\"\n",
    "pollution_choose(\"PM10\", desease)\n",
    "pollution_choose(\"PM25\", desease)#\n",
    "pollution_choose(\"NO2\", desease)#"
   ]
  },
  {
   "cell_type": "code",
   "execution_count": null,
   "metadata": {},
   "outputs": [],
   "source": [
    "#di cui altri tumori maligni del tessuto linfatico/ematopoietico\n",
    "desease=\"di cui altri tumori maligni del tessuto linfatico/ematopoietico\"\n",
    "pollution_choose(\"PM10\", desease)\n",
    "pollution_choose(\"PM25\", desease)\n",
    "pollution_choose(\"NO2\", desease)"
   ]
  },
  {
   "cell_type": "code",
   "execution_count": null,
   "metadata": {},
   "outputs": [],
   "source": [
    "#malattie del sangue e degli organi ematopoietici ed alcuni disturbi del sistema immunitario\n",
    "desease=\"malattie del sangue e degli organi ematopoietici ed alcuni disturbi del sistema immunitario\"\n",
    "pollution_choose(\"PM10\", desease)\n",
    "pollution_choose(\"PM25\", desease)\n",
    "pollution_choose(\"NO2\", desease)"
   ]
  },
  {
   "cell_type": "code",
   "execution_count": null,
   "metadata": {},
   "outputs": [],
   "source": [
    "#altre malattie del sistema respiratorio\n",
    "desease=\"altre malattie del sistema respiratorio\"\n",
    "pollution_choose(\"PM10\", desease)\n",
    "pollution_choose(\"PM25\", desease)\n",
    "pollution_choose(\"NO2\", desease)"
   ]
  },
  {
   "cell_type": "code",
   "execution_count": null,
   "metadata": {},
   "outputs": [],
   "source": [
    "#di cui tumori maligni dello stomaco\n",
    "desease=\"di cui tumori maligni dello stomaco\"\n",
    "pollution_choose(\"PM10\", desease)\n",
    "pollution_choose(\"PM25\", desease)\n",
    "pollution_choose(\"NO2\", desease)"
   ]
  },
  {
   "cell_type": "code",
   "execution_count": null,
   "metadata": {},
   "outputs": [],
   "source": [
    "#di cui tumori maligni del pancreas\n",
    "desease=\"di cui tumori maligni del pancreas\"\n",
    "pollution_choose(\"PM10\", desease)\n",
    "pollution_choose(\"PM25\", desease)##\n",
    "pollution_choose(\"NO2\", desease)#"
   ]
  },
  {
   "cell_type": "code",
   "execution_count": null,
   "metadata": {},
   "outputs": [],
   "source": [
    "#di cui melanomi maligni della cute\n",
    "desease=\"di cui melanomi maligni della cute\"\n",
    "pollution_choose(\"PM10\", desease)\n",
    "pollution_choose(\"PM25\", desease)\n",
    "pollution_choose(\"NO2\", desease)"
   ]
  },
  {
   "cell_type": "code",
   "execution_count": null,
   "metadata": {},
   "outputs": [],
   "source": [
    "#malattia di alzheimer\n",
    "desease=\"malattia di alzheimer\"\n",
    "pollution_choose(\"PM10\", desease)\n",
    "pollution_choose(\"PM25\", desease)\n",
    "pollution_choose(\"NO2\", desease)"
   ]
  },
  {
   "cell_type": "code",
   "execution_count": null,
   "metadata": {},
   "outputs": [],
   "source": [
    "#diabete mellito\n",
    "desease=\"diabete mellito\"\n",
    "pollution_choose(\"PM10\", desease)\n",
    "pollution_choose(\"PM25\", desease)\n",
    "pollution_choose(\"NO2\", desease)"
   ]
  },
  {
   "cell_type": "code",
   "execution_count": null,
   "metadata": {},
   "outputs": [],
   "source": [
    "#di cui tumori maligni del fegato e dei dotti biliari intraepatici\n",
    "desease=\"di cui tumori maligni del fegato e dei dotti biliari intraepatici\"\n",
    "pollution_choose(\"PM10\", desease)\n",
    "pollution_choose(\"PM25\", desease)\n",
    "pollution_choose(\"NO2\", desease)"
   ]
  },
  {
   "cell_type": "code",
   "execution_count": null,
   "metadata": {},
   "outputs": [],
   "source": [
    "#morbo di parkinson\n",
    "desease=\"morbo di parkinson\"\n",
    "pollution_choose(\"PM10\", desease)\n",
    "pollution_choose(\"PM25\", desease)\n",
    "pollution_choose(\"NO2\", desease)"
   ]
  },
  {
   "cell_type": "code",
   "execution_count": null,
   "metadata": {},
   "outputs": [],
   "source": [
    "#di cui tumori maligni dell'esofago #  \n",
    "desease=\"di cui tumori maligni dell'esofago\"\n",
    "pollution_choose(\"PM10\", desease)\n",
    "pollution_choose(\"PM25\", desease)##\n",
    "pollution_choose(\"NO2\", desease)#"
   ]
  },
  {
   "cell_type": "code",
   "execution_count": null,
   "metadata": {},
   "outputs": [],
   "source": [
    "#tubercolosi\n",
    "desease=\"tubercolosi\"\n",
    "pollution_choose(\"PM10\", desease)\n",
    "pollution_choose(\"PM25\", desease)\n",
    "pollution_choose(\"NO2\", desease)"
   ]
  },
  {
   "cell_type": "code",
   "execution_count": null,
   "metadata": {},
   "outputs": [],
   "source": [
    "#di cui tumori maligni delle labbra, cavità orale e faringe\n",
    "desease=\"di cui tumori maligni delle labbra, cavità orale e faringe\"\n",
    "pollution_choose(\"PM10\", desease)\n",
    "pollution_choose(\"PM25\", desease)\n",
    "pollution_choose(\"NO2\", desease)"
   ]
  },
  {
   "cell_type": "code",
   "execution_count": null,
   "metadata": {},
   "outputs": [],
   "source": [
    "#di cui tumori maligni del colon, del retto e dell'ano\n",
    "desease=\"di cui tumori maligni del colon, del retto e dell'ano\"\n",
    "pollution_choose(\"PM10\", desease)\n",
    "pollution_choose(\"PM25\", desease)\n",
    "pollution_choose(\"NO2\", desease)"
   ]
  },
  {
   "cell_type": "code",
   "execution_count": null,
   "metadata": {},
   "outputs": [],
   "source": [
    "#di cui tumori maligni della cervice uterina\n",
    "desease=\"di cui tumori maligni della cervice uterina\"\n",
    "pollution_choose(\"PM10\", desease)\n",
    "pollution_choose(\"PM25\", desease)\n",
    "pollution_choose(\"NO2\", desease)"
   ]
  },
  {
   "cell_type": "code",
   "execution_count": null,
   "metadata": {},
   "outputs": [],
   "source": [
    "#di cui tumori maligni della laringe\n",
    "desease=\"di cui tumori maligni della laringe\"\n",
    "pollution_choose(\"PM10\", desease)\n",
    "pollution_choose(\"PM25\", desease)\n",
    "pollution_choose(\"NO2\", desease)"
   ]
  },
  {
   "cell_type": "code",
   "execution_count": null,
   "metadata": {},
   "outputs": [],
   "source": [
    "#di cui infarto miocardico acuto\n",
    "desease=\"di cui infarto miocardico acuto\"\n",
    "pollution_choose(\"PM10\", desease)\n",
    "pollution_choose(\"PM25\", desease)\n",
    "pollution_choose(\"NO2\", desease)"
   ]
  },
  {
   "cell_type": "code",
   "execution_count": null,
   "metadata": {},
   "outputs": [],
   "source": [
    "#malattie cerebrovascolari\n",
    "desease=\"malattie cerebrovascolari\"\n",
    "pollution_choose(\"PM10\", desease)\n",
    "pollution_choose(\"PM25\", desease)\n",
    "pollution_choose(\"NO2\", desease)"
   ]
  },
  {
   "cell_type": "code",
   "execution_count": null,
   "metadata": {},
   "outputs": [],
   "source": [
    "#influenza  \n",
    "desease=\"influenza\"\n",
    "pollution_choose(\"PM10\", desease)\n",
    "pollution_choose(\"PM25\", desease)\n",
    "pollution_choose(\"NO2\", desease)"
   ]
  },
  {
   "cell_type": "code",
   "execution_count": null,
   "metadata": {},
   "outputs": [],
   "source": [
    "#di cui tumori maligni di altre parti dell'utero\n",
    "desease=\"di cui tumori maligni di altre parti dell'utero\"\n",
    "pollution_choose(\"PM10\", desease)\n",
    "pollution_choose(\"PM25\", desease)\n",
    "pollution_choose(\"NO2\", desease)"
   ]
  },
  {
   "cell_type": "code",
   "execution_count": null,
   "metadata": {},
   "outputs": [],
   "source": [
    "#di cui tumori maligni del rene\n",
    "desease=\"di cui tumori maligni del rene\"\n",
    "pollution_choose(\"PM10\", desease)\n",
    "pollution_choose(\"PM25\", desease)\n",
    "pollution_choose(\"NO2\", desease)"
   ]
  },
  {
   "cell_type": "code",
   "execution_count": null,
   "metadata": {},
   "outputs": [],
   "source": [
    "#altre malattie del cuore\n",
    "desease=\"altre malattie del cuore\"\n",
    "pollution_choose(\"PM10\", desease)\n",
    "pollution_choose(\"PM25\", desease)\n",
    "pollution_choose(\"NO2\", desease)"
   ]
  },
  {
   "cell_type": "code",
   "execution_count": null,
   "metadata": {},
   "outputs": [],
   "source": [
    "#di cui tumori maligni della tiroide\n",
    "desease=\"di cui tumori maligni della tiroide\"\n",
    "pollution_choose(\"PM10\", desease)\n",
    "pollution_choose(\"PM25\", desease)\n",
    "pollution_choose(\"NO2\", desease)"
   ]
  },
  {
   "cell_type": "code",
   "execution_count": null,
   "metadata": {},
   "outputs": [],
   "source": [
    "#di cui tumori maligni del seno\n",
    "desease=\"di cui tumori maligni del seno\"\n",
    "pollution_choose(\"PM10\", desease)\n",
    "pollution_choose(\"PM25\", desease)\n",
    "pollution_choose(\"NO2\", desease)"
   ]
  },
  {
   "cell_type": "code",
   "execution_count": null,
   "metadata": {},
   "outputs": [],
   "source": [
    "#di cui tumori maligni dell'ovaio\n",
    "desease=\"di cui tumori maligni dell'ovaio\"\n",
    "pollution_choose(\"PM10\", desease)\n",
    "pollution_choose(\"PM25\", desease)\n",
    "pollution_choose(\"NO2\", desease)"
   ]
  },
  {
   "cell_type": "code",
   "execution_count": null,
   "metadata": {},
   "outputs": [],
   "source": [
    "#di cui asma\n",
    "desease=\"di cui asma\"\n",
    "pollution_choose(\"PM10\", desease)\n",
    "pollution_choose(\"PM25\", desease)\n",
    "pollution_choose(\"NO2\", desease)"
   ]
  },
  {
   "cell_type": "code",
   "execution_count": null,
   "metadata": {},
   "outputs": [],
   "source": []
  }
 ],
 "metadata": {
  "kernelspec": {
   "display_name": "Python 3",
   "language": "python",
   "name": "python3"
  },
  "language_info": {
   "codemirror_mode": {
    "name": "ipython",
    "version": 3
   },
   "file_extension": ".py",
   "mimetype": "text/x-python",
   "name": "python",
   "nbconvert_exporter": "python",
   "pygments_lexer": "ipython3",
   "version": "3.8.3"
  }
 },
 "nbformat": 4,
 "nbformat_minor": 4
}

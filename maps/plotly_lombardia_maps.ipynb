{
 "cells": [
  {
   "cell_type": "code",
   "execution_count": null,
   "id": "ddc65e14",
   "metadata": {},
   "outputs": [],
   "source": [
    "import pandas as pd, json, plotly.express as px\n",
    "\n",
    "with open(\"../geojson/lombardia_province.geojson\") as f:\n",
    "    province_geo=json.load(f)"
   ]
  },
  {
   "cell_type": "code",
   "execution_count": null,
   "id": "ce40f037",
   "metadata": {},
   "outputs": [],
   "source": [
    "#Pollutants lists\n",
    "PM10 = ['PM10', 'PM10 (SM2005)']\n",
    "NO2 = ['Biossido di Azoto']\n",
    "PM25 = ['Particelle sospese PM2.5']\n",
    "CO_8h = ['Monossido di Carbonio']\n",
    "O3 = ['Ozono']\n",
    "SO2 = ['Biossido di Zolfo']\n",
    "C6H6 = ['Benzene']\n",
    "\n",
    "#Range lists (min-max between all years)\n",
    "range_PM10 = [18, 55]\n",
    "range_NO2 = [14, 72]\n",
    "range_PM25 = [10, 58]\n",
    "range_CO_8h = [0.2, 1.6]\n",
    "range_O3 = [12, 64]\n",
    "range_SO2 = [0, 12]\n",
    "range_C6H6 = [0.5, 4]\n",
    "\n",
    "#Years available\n",
    "years = range(2005, 2019)"
   ]
  },
  {
   "cell_type": "code",
   "execution_count": null,
   "id": "0ce6f5b7",
   "metadata": {},
   "outputs": [],
   "source": [
    "def switch_year(argument):\n",
    "    switcher = {\n",
    "        2005: '../csv/lombardia/sensori_aria_2005/2005.csv',\n",
    "        2006: '../csv/lombardia/sensori_aria_2006/2006.csv',\n",
    "        2007: '../csv/lombardia/sensori_aria_2007/2007.csv',\n",
    "        2008: '../csv/lombardia/sensori_aria_2008/2008.csv',\n",
    "        2009: '../csv/lombardia/sensori_aria_2009/2009.csv',\n",
    "        2010: '../csv/lombardia/sensori_aria_2010/2010.csv',\n",
    "        2011: '../csv/lombardia/sensori_aria_2011/2011.csv',\n",
    "        2012: '../csv/lombardia/sensori_aria_2012/2012.csv',\n",
    "        2013: '../csv/lombardia/sensori_aria_2013/2013.csv',\n",
    "        2014: '../csv/lombardia/sensori_aria_2014/2014.csv',\n",
    "        2015: '../csv/lombardia/sensori_aria_2015/2015.csv',\n",
    "        2016: '../csv/lombardia/sensori_aria_2016/2016.csv',\n",
    "        2017: '../csv/lombardia/sensori_aria_2017/2017.csv',\n",
    "        2018: '../csv/lombardia/sensori_aria_2018/2018.csv'\n",
    "    }\n",
    "    year = switcher.get(argument, \"Invalid input\")\n",
    "    return year\n",
    "\n",
    "def generate_map(year, pollutant = [], pollutant_range = []):\n",
    "    stations = pd.read_csv('../csv/lombardia/Stazioni_qualit__dell_aria(lombardia).csv', encoding='utf-8', sep=',')\n",
    "    y = switch_year(year)\n",
    "    chosen_year = pd.read_csv(y, encoding='utf-8', sep=',')\n",
    "    #Remove broken values\n",
    "    chosen_year.drop(chosen_year.index[(chosen_year[\"Valore\"] < 0)],axis=0,inplace=True)\n",
    "    #Remove unwanted pollutants\n",
    "    for index, row in stations.iterrows():\n",
    "        if row[\"NomeTipoSensore\"] not in pollutant:\n",
    "            stations.drop(index, inplace=True)\n",
    "    result = pd.merge(stations,chosen_year,on='IdSensore')\n",
    "    #Calculate yearly mean by Province\n",
    "    df = result.groupby(by=['Provincia'])\n",
    "    df = df[\"Valore\"].mean().reset_index()\n",
    "    #Generate map\n",
    "    fig = px.choropleth_mapbox(df, geojson=province_geo,\n",
    "                               locations='Provincia',\n",
    "                               featureidkey='properties.prov_acr',\n",
    "                               color='Valore',\n",
    "                               color_continuous_scale=\"YlOrRd\",\n",
    "                               range_color=(pollutant_range[0], pollutant_range[1]),\n",
    "                               mapbox_style=\"carto-positron\",\n",
    "                               zoom=7,\n",
    "                               center = {\"lat\": 45.67, \"lon\": 9.7119},\n",
    "                               opacity=0.5,\n",
    "                               labels={'Valore':pollutant[0]+': '+str(year)}\n",
    "                              )\n",
    "    fig.update_layout(margin={\"r\":0,\"t\":0,\"l\":0,\"b\":0})\n",
    "    fig.show()"
   ]
  },
  {
   "cell_type": "code",
   "execution_count": null,
   "id": "9013413a",
   "metadata": {
    "scrolled": false
   },
   "outputs": [],
   "source": [
    "generate_map(2005, PM10, range_PM10)"
   ]
  },
  {
   "cell_type": "code",
   "execution_count": null,
   "id": "48f4a828",
   "metadata": {},
   "outputs": [],
   "source": [
    "generate_map(2005, NO2, range_NO2)"
   ]
  },
  {
   "cell_type": "code",
   "execution_count": null,
   "id": "7f076af1",
   "metadata": {},
   "outputs": [],
   "source": [
    "generate_map(2005, PM25, range_PM25)"
   ]
  },
  {
   "cell_type": "code",
   "execution_count": null,
   "id": "62050503",
   "metadata": {},
   "outputs": [],
   "source": [
    "generate_map(2005, CO_8h, range_CO_8h)"
   ]
  },
  {
   "cell_type": "code",
   "execution_count": null,
   "id": "fef6646d",
   "metadata": {},
   "outputs": [],
   "source": [
    "generate_map(2005, O3, range_O3)"
   ]
  },
  {
   "cell_type": "code",
   "execution_count": null,
   "id": "64d168d2",
   "metadata": {},
   "outputs": [],
   "source": [
    "generate_map(2005, SO2, range_SO2)"
   ]
  },
  {
   "cell_type": "code",
   "execution_count": null,
   "id": "5247f5c7",
   "metadata": {},
   "outputs": [],
   "source": [
    "generate_map(2005, C6H6, range_C6H6)"
   ]
  }
 ],
 "metadata": {
  "kernelspec": {
   "display_name": "Python 3",
   "language": "python",
   "name": "python3"
  },
  "language_info": {
   "codemirror_mode": {
    "name": "ipython",
    "version": 3
   },
   "file_extension": ".py",
   "mimetype": "text/x-python",
   "name": "python",
   "nbconvert_exporter": "python",
   "pygments_lexer": "ipython3",
   "version": "3.9.5"
  }
 },
 "nbformat": 4,
 "nbformat_minor": 5
}

{
 "cells": [
  {
   "cell_type": "code",
   "execution_count": 20,
   "metadata": {},
   "outputs": [
    {
     "data": {
      "text/html": [
       "<div>\n",
       "<style scoped>\n",
       "    .dataframe tbody tr th:only-of-type {\n",
       "        vertical-align: middle;\n",
       "    }\n",
       "\n",
       "    .dataframe tbody tr th {\n",
       "        vertical-align: top;\n",
       "    }\n",
       "\n",
       "    .dataframe thead th {\n",
       "        text-align: right;\n",
       "    }\n",
       "</style>\n",
       "<table border=\"1\" class=\"dataframe\">\n",
       "  <thead>\n",
       "    <tr style=\"text-align: right;\">\n",
       "      <th></th>\n",
       "      <th>data</th>\n",
       "      <th>Media</th>\n",
       "    </tr>\n",
       "  </thead>\n",
       "  <tbody>\n",
       "    <tr>\n",
       "      <th>0</th>\n",
       "      <td>2018-01-01</td>\n",
       "      <td>3.312500</td>\n",
       "    </tr>\n",
       "    <tr>\n",
       "      <th>1</th>\n",
       "      <td>2018-01-02</td>\n",
       "      <td>6.391667</td>\n",
       "    </tr>\n",
       "    <tr>\n",
       "      <th>2</th>\n",
       "      <td>2018-01-03</td>\n",
       "      <td>-1.258333</td>\n",
       "    </tr>\n",
       "    <tr>\n",
       "      <th>3</th>\n",
       "      <td>2018-01-04</td>\n",
       "      <td>13.145833</td>\n",
       "    </tr>\n",
       "    <tr>\n",
       "      <th>4</th>\n",
       "      <td>2018-01-05</td>\n",
       "      <td>14.691667</td>\n",
       "    </tr>\n",
       "    <tr>\n",
       "      <th>...</th>\n",
       "      <td>...</td>\n",
       "      <td>...</td>\n",
       "    </tr>\n",
       "    <tr>\n",
       "      <th>360</th>\n",
       "      <td>2018-12-27</td>\n",
       "      <td>2.066667</td>\n",
       "    </tr>\n",
       "    <tr>\n",
       "      <th>361</th>\n",
       "      <td>2018-12-28</td>\n",
       "      <td>3.200000</td>\n",
       "    </tr>\n",
       "    <tr>\n",
       "      <th>362</th>\n",
       "      <td>2018-12-29</td>\n",
       "      <td>4.062500</td>\n",
       "    </tr>\n",
       "    <tr>\n",
       "      <th>363</th>\n",
       "      <td>2018-12-30</td>\n",
       "      <td>5.854167</td>\n",
       "    </tr>\n",
       "    <tr>\n",
       "      <th>364</th>\n",
       "      <td>2018-12-31</td>\n",
       "      <td>1.600000</td>\n",
       "    </tr>\n",
       "  </tbody>\n",
       "</table>\n",
       "<p>365 rows × 2 columns</p>\n",
       "</div>"
      ],
      "text/plain": [
       "          data      Media\n",
       "0   2018-01-01   3.312500\n",
       "1   2018-01-02   6.391667\n",
       "2   2018-01-03  -1.258333\n",
       "3   2018-01-04  13.145833\n",
       "4   2018-01-05  14.691667\n",
       "..         ...        ...\n",
       "360 2018-12-27   2.066667\n",
       "361 2018-12-28   3.200000\n",
       "362 2018-12-29   4.062500\n",
       "363 2018-12-30   5.854167\n",
       "364 2018-12-31   1.600000\n",
       "\n",
       "[365 rows x 2 columns]"
      ]
     },
     "execution_count": 20,
     "metadata": {},
     "output_type": "execute_result"
    }
   ],
   "source": [
    "import pandas as pd\n",
    "import numpy as np\n",
    "import matplotlib.pyplot as plt\n",
    "import dateutil.parser \n",
    "from datetime import datetime\n",
    "\n",
    "tps = pd.read_csv('../csv/temperatures/temperature_2018.csv', encoding='utf-8', sep=';')\n",
    "\n",
    "#Selected only Lambrate's station (id=2)\n",
    "tps.drop(tps.index[(tps[\"Zone\"]!=\"Lambrate\")], axis=0, inplace=True) \n",
    "\n",
    "tps\n",
    "\n",
    "#Selected only Data from january to march\n",
    "\n",
    "\n",
    "tps.drop(tps.index[12960:],inplace=True)\n",
    "\n",
    "#Converted into datetime type\n",
    "tps['Data-Ora'] = pd.to_datetime(tps['Data-Ora'])\n",
    "tps['Media'] =pd.to_numeric(tps['Media'].str.replace(',','.'), errors='coerce')\n",
    "\n",
    "#Group by date\n",
    "tps_day_medium = tps.set_index('Data-Ora').groupby(pd.Grouper(freq='D'))\n",
    "\n",
    "#Calculated daily temperatures mean\n",
    "tps_day_medium = tps_day_medium['Media'].mean().reset_index().rename(columns={\"Data-Ora\":\"data\"})\n",
    "\n",
    "tps_day_medium"
   ]
  },
  {
   "cell_type": "code",
   "execution_count": 16,
   "metadata": {},
   "outputs": [],
   "source": [
    "inq=pd.read_csv('../csv/pollution_detection/ds459_qaria_datoariagiornostazione_year-2018.csv', encoding='utf-8', sep=';')\n",
    "\n",
    "#Selected only Data from january to march\n",
    "inq.drop(inq.index[1550:],inplace=True)\n",
    "\n",
    "#Selected only NO2 pollution\n",
    "inq.drop(inq.index[(inq[\"inquinante\"]!=\"NO2\")], axis=0, inplace=True)\n",
    "\n",
    "#Deleted not a number values\n",
    "inq.dropna(subset=[\"valore\"], axis=0, inplace=True)\n",
    "\n",
    "#Selected only Lambrate's station (id=2)\n",
    "inq.drop(inq.index[(inq[\"stazione_id\"]!=2)], axis=0, inplace=True)"
   ]
  },
  {
   "cell_type": "code",
   "execution_count": 17,
   "metadata": {
    "scrolled": true
   },
   "outputs": [
    {
     "data": {
      "text/html": [
       "<div>\n",
       "<style scoped>\n",
       "    .dataframe tbody tr th:only-of-type {\n",
       "        vertical-align: middle;\n",
       "    }\n",
       "\n",
       "    .dataframe tbody tr th {\n",
       "        vertical-align: top;\n",
       "    }\n",
       "\n",
       "    .dataframe thead th {\n",
       "        text-align: right;\n",
       "    }\n",
       "</style>\n",
       "<table border=\"1\" class=\"dataframe\">\n",
       "  <thead>\n",
       "    <tr style=\"text-align: right;\">\n",
       "      <th></th>\n",
       "      <th>stazione_id</th>\n",
       "      <th>data</th>\n",
       "      <th>inquinante</th>\n",
       "      <th>valore</th>\n",
       "    </tr>\n",
       "  </thead>\n",
       "  <tbody>\n",
       "    <tr>\n",
       "      <th>11</th>\n",
       "      <td>2</td>\n",
       "      <td>2018-01-03</td>\n",
       "      <td>NO2</td>\n",
       "      <td>70.0</td>\n",
       "    </tr>\n",
       "    <tr>\n",
       "      <th>36</th>\n",
       "      <td>2</td>\n",
       "      <td>2018-01-04</td>\n",
       "      <td>NO2</td>\n",
       "      <td>72.0</td>\n",
       "    </tr>\n",
       "    <tr>\n",
       "      <th>61</th>\n",
       "      <td>2</td>\n",
       "      <td>2018-01-05</td>\n",
       "      <td>NO2</td>\n",
       "      <td>76.0</td>\n",
       "    </tr>\n",
       "    <tr>\n",
       "      <th>86</th>\n",
       "      <td>2</td>\n",
       "      <td>2018-01-08</td>\n",
       "      <td>NO2</td>\n",
       "      <td>46.0</td>\n",
       "    </tr>\n",
       "    <tr>\n",
       "      <th>111</th>\n",
       "      <td>2</td>\n",
       "      <td>2018-01-09</td>\n",
       "      <td>NO2</td>\n",
       "      <td>38.0</td>\n",
       "    </tr>\n",
       "    <tr>\n",
       "      <th>...</th>\n",
       "      <td>...</td>\n",
       "      <td>...</td>\n",
       "      <td>...</td>\n",
       "      <td>...</td>\n",
       "    </tr>\n",
       "    <tr>\n",
       "      <th>1436</th>\n",
       "      <td>2</td>\n",
       "      <td>2018-03-26</td>\n",
       "      <td>NO2</td>\n",
       "      <td>100.0</td>\n",
       "    </tr>\n",
       "    <tr>\n",
       "      <th>1461</th>\n",
       "      <td>2</td>\n",
       "      <td>2018-03-27</td>\n",
       "      <td>NO2</td>\n",
       "      <td>108.0</td>\n",
       "    </tr>\n",
       "    <tr>\n",
       "      <th>1486</th>\n",
       "      <td>2</td>\n",
       "      <td>2018-03-28</td>\n",
       "      <td>NO2</td>\n",
       "      <td>102.0</td>\n",
       "    </tr>\n",
       "    <tr>\n",
       "      <th>1511</th>\n",
       "      <td>2</td>\n",
       "      <td>2018-03-29</td>\n",
       "      <td>NO2</td>\n",
       "      <td>71.0</td>\n",
       "    </tr>\n",
       "    <tr>\n",
       "      <th>1536</th>\n",
       "      <td>2</td>\n",
       "      <td>2018-03-30</td>\n",
       "      <td>NO2</td>\n",
       "      <td>72.0</td>\n",
       "    </tr>\n",
       "  </tbody>\n",
       "</table>\n",
       "<p>61 rows × 4 columns</p>\n",
       "</div>"
      ],
      "text/plain": [
       "      stazione_id        data inquinante  valore\n",
       "11              2  2018-01-03        NO2    70.0\n",
       "36              2  2018-01-04        NO2    72.0\n",
       "61              2  2018-01-05        NO2    76.0\n",
       "86              2  2018-01-08        NO2    46.0\n",
       "111             2  2018-01-09        NO2    38.0\n",
       "...           ...         ...        ...     ...\n",
       "1436            2  2018-03-26        NO2   100.0\n",
       "1461            2  2018-03-27        NO2   108.0\n",
       "1486            2  2018-03-28        NO2   102.0\n",
       "1511            2  2018-03-29        NO2    71.0\n",
       "1536            2  2018-03-30        NO2    72.0\n",
       "\n",
       "[61 rows x 4 columns]"
      ]
     },
     "execution_count": 17,
     "metadata": {},
     "output_type": "execute_result"
    }
   ],
   "source": [
    "inq"
   ]
  },
  {
   "cell_type": "code",
   "execution_count": 18,
   "metadata": {
    "scrolled": false
   },
   "outputs": [
    {
     "data": {
      "image/png": "[encoded data removed]",
      "text/plain": [
       "<Figure size 432x288 with 1 Axes>"
      ]
     },
     "metadata": {
      "needs_background": "light"
     },
     "output_type": "display_data"
    }
   ],
   "source": [
    "#Inner-join between 'data' from inq and tps_day_medium\n",
    "result= inq.set_index('data').join(tps_day_medium.set_index('data'))\n",
    "\n",
    "result.plot.scatter(x='Media', y='valore')\n",
    "\n",
    "plt.xlabel('Daily temperatures mean january-march')\n",
    "plt.ylabel('Daily NO2 level january-march')\n",
    "plt.show()"
   ]
  },
  {
   "cell_type": "code",
   "execution_count": 79,
   "metadata": {},
   "outputs": [],
   "source": [
    "def weather_pollutant(pollutant, station_id, weather_attribute, date1, date2):\n",
    "    \n",
    "    inq = pd.read_csv('../csv/pollution_detection/ds459_qaria_datoariagiornostazione_year-2018.csv', encoding='utf-8', sep=';')\n",
    "    weather = pd.read_csv('../csv/weathermilan_ilmeteo/Milano-2018.csv', encoding='utf-8', sep=',')\n",
    "    \n",
    "    #Converted into datetime type\n",
    "    weather['DATA'] = pd.to_datetime(weather['DATA'])\n",
    "    \n",
    "    #Selected only Data from date1 to date2\n",
    "    inq.drop(inq.index[(inq[\"data\"] < date1)], axis=0, inplace=True)\n",
    "    inq.drop(inq.index[(inq[\"data\"] > date2)], axis=0, inplace=True)\n",
    "    weather.drop(weather.index[(weather[\"DATA\"] < date1)], axis=0, inplace=True)\n",
    "    weather.drop(weather.index[(weather[\"DATA\"] > date2)], axis=0, inplace=True)\n",
    "    \n",
    "    #Selected only NO2 pollution\n",
    "    inq.drop(inq.index[(inq[\"inquinante\"]!=pollutant)], axis=0, inplace=True)\n",
    "    \n",
    "    #Deleted not a number values\n",
    "    inq.dropna(subset=[\"valore\"], axis=0, inplace=True)\n",
    "    \n",
    "    #Selected only Lambrate's station (id=2)\n",
    "    inq.drop(inq.index[(inq[\"stazione_id\"]!=2)], axis=0, inplace=True)\n",
    "    \n",
    "    weather2 = weather.rename(columns={\"DATA\":\"data\"})\n",
    "    \n",
    "    \n",
    "    #Inner-join between 'data' from inq and tps_day_medium\n",
    "    result = inq.set_index('data').join(weather2.set_index('data'))\n",
    "\n",
    "    result.plot.scatter(x=weather_attribute, y='valore')\n",
    "\n",
    "    plt.xlabel('Pollutant: '+pollutant)\n",
    "    plt.ylabel('Weather attribute: '+weather_attribute)\n",
    "    plt.show()"
   ]
  },
  {
   "cell_type": "code",
   "execution_count": 80,
   "metadata": {},
   "outputs": [
    {
     "data": {
      "image/png": "[encoded data removed]",
      "text/plain": [
       "<Figure size 432x288 with 1 Axes>"
      ]
     },
     "metadata": {
      "needs_background": "light"
     },
     "output_type": "display_data"
    }
   ],
   "source": [
    "weather_pollutant(\"NO2\", 2, \"TMEDIA °C\", \"2018-01-03\", \"2018-03-30\")"
   ]
  },
  {
   "cell_type": "code",
   "execution_count": 81,
   "metadata": {},
   "outputs": [
    {
     "data": {
      "image/png": "[encoded data removed]",
      "text/plain": [
       "<Figure size 432x288 with 1 Axes>"
      ]
     },
     "metadata": {
      "needs_background": "light"
     },
     "output_type": "display_data"
    }
   ],
   "source": [
    "weather_pollutant(\"NO2\", 2, \"UMIDITA %\", \"2018-01-03\", \"2018-03-30\")"
   ]
  },
  {
   "cell_type": "code",
   "execution_count": 83,
   "metadata": {},
   "outputs": [
    {
     "data": {
      "image/png": "[encoded data removed]",
      "text/plain": [
       "<Figure size 432x288 with 1 Axes>"
      ]
     },
     "metadata": {
      "needs_background": "light"
     },
     "output_type": "display_data"
    }
   ],
   "source": [
    "weather_pollutant(\"NO2\", 2, \"VENTOMEDIA km/h\", \"2018-01-03\", \"2018-03-30\")"
   ]
  },
  {
   "cell_type": "code",
   "execution_count": null,
   "metadata": {},
   "outputs": [],
   "source": [
    "weather_pollutant(\"PM10\", 7, \"\", \"2018-01-03\", \"2018-03-30\")"
   ]
  }
 ],
 "metadata": {
  "kernelspec": {
   "display_name": "Python 3",
   "language": "python",
   "name": "python3"
  },
  "language_info": {
   "codemirror_mode": {
    "name": "ipython",
    "version": 3
   },
   "file_extension": ".py",
   "mimetype": "text/x-python",
   "name": "python",
   "nbconvert_exporter": "python",
   "pygments_lexer": "ipython3",
   "version": "3.8.3"
  }
 },
 "nbformat": 4,
 "nbformat_minor": 4
}

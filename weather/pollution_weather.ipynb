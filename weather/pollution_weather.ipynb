{
 "cells": [
  {
   "cell_type": "code",
   "execution_count": 1,
   "metadata": {},
   "outputs": [],
   "source": [
    "import pandas as pd\n",
    "import numpy as np\n",
    "import matplotlib.pyplot as plt\n",
    "import dateutil.parser \n",
    "from datetime import datetime"
   ]
  },
  {
   "cell_type": "code",
   "execution_count": 2,
   "metadata": {},
   "outputs": [],
   "source": [
    "#Call example:\n",
    "#stations = [1, 3, 5, 9]\n",
    "#weather_pollutant(\"PM10\", \"TMEDIA °C\", \"2018-01-03\", \"2018-12-31\", stations)\n",
    "\n",
    "def weather_pollutant(pollutant, weather_attribute, date1, date2, given_stations = []):\n",
    "    existing_stations = [1, 2, 3, 4, 5, 6, 7, 8, 9]\n",
    "    inq = pd.read_csv('../csv/pollution_detection/ds459_qaria_datoariagiornostazione_year-2018.csv', encoding='utf-8', sep=';')\n",
    "    weather = pd.read_csv('../csv/weathermilan_ilmeteo/Milano-2018.csv', encoding='utf-8', sep=',')\n",
    "    \n",
    "    #Convert into datetime type\n",
    "    inq['data'] = pd.to_datetime(inq['data'])\n",
    "    weather['DATA'] = pd.to_datetime(weather['DATA'])\n",
    "    \n",
    "    #Select only Data from date1 to date2\n",
    "    inq.drop(inq.index[(inq[\"data\"] < date1)], axis=0, inplace=True)\n",
    "    inq.drop(inq.index[(inq[\"data\"] > date2)], axis=0, inplace=True)\n",
    "    weather.drop(weather.index[(weather[\"DATA\"] < date1)], axis=0, inplace=True)\n",
    "    weather.drop(weather.index[(weather[\"DATA\"] > date2)], axis=0, inplace=True)\n",
    "    \n",
    "    #Select only given pollutant\n",
    "    inq.drop(inq.index[(inq[\"inquinante\"]!=pollutant)], axis=0, inplace=True)\n",
    "    \n",
    "    #Select only given stations\n",
    "    for s in existing_stations:\n",
    "        if s not in given_stations:\n",
    "               inq.drop(inq.index[(inq[\"stazione_id\"]==s)], axis=0, inplace=True)\n",
    "\n",
    "    #Delete not a number values\n",
    "    inq.dropna(subset=[\"valore\"], axis=0, inplace=True)\n",
    "    \n",
    "    #Group by date\n",
    "    inq = inq.set_index('data').groupby(pd.Grouper(freq='D'))\n",
    "\n",
    "    #Calculate daily pollutant mean\n",
    "    inq_mean = inq['valore'].mean().reset_index()\n",
    "    \n",
    "    weather = weather.rename(columns={\"DATA\":\"data\"})\n",
    "    \n",
    "    #Inner-join between 'data' from inq_mean and weather\n",
    "    result=pd.merge(inq_mean,weather,on='data')\n",
    "\n",
    "    result.plot.scatter(x=weather_attribute, y='valore')\n",
    "\n",
    "    plt.xlabel('Weather attribute: '+weather_attribute)\n",
    "    plt.ylabel('Pollutant: '+pollutant)"
   ]
  },
  {
   "cell_type": "code",
   "execution_count": 3,
   "metadata": {},
   "outputs": [],
   "source": [
    "#Call example:\n",
    "#stations = [1, 3, 5, 9]\n",
    "#rain(\"PM10\", \"2018-01-03\", \"2018-12-31\", stations)\n",
    "\n",
    "def rain(pollutant, date1, date2, given_stations = []):\n",
    "    existing_stations = [1, 2, 3, 4, 5, 6, 7, 8, 9]\n",
    "    inq = pd.read_csv('../csv/pollution_detection/ds459_qaria_datoariagiornostazione_year-2018.csv', encoding='utf-8', sep=';')\n",
    "    milan_weather = pd.read_csv('../csv/precipitazioni.csv', encoding='utf-8', sep=',')\n",
    "    \n",
    "    #Convert into datetime type\n",
    "    inq['data'] = pd.to_datetime(inq['data'])\n",
    "    milan_weather['Data-Ora'] = pd.to_datetime(milan_weather['Data-Ora'])\n",
    "    \n",
    "    #Select only Data from date1 to date2\n",
    "    inq.drop(inq.index[(inq[\"data\"] < date1)], axis=0, inplace=True)\n",
    "    inq.drop(inq.index[(inq[\"data\"] > date2)], axis=0, inplace=True)\n",
    "    milan_weather.drop(milan_weather.index[(milan_weather[\"Data-Ora\"] < date1)], axis=0, inplace=True)\n",
    "    milan_weather.drop(milan_weather.index[(milan_weather[\"Data-Ora\"] > date2)], axis=0, inplace=True)\n",
    "    \n",
    "    #Select only given pollutant\n",
    "    inq.drop(inq.index[(inq[\"inquinante\"]!=pollutant)], axis=0, inplace=True)\n",
    "    \n",
    "    #Select only given stations\n",
    "    for s in existing_stations:\n",
    "        if s not in given_stations:\n",
    "               inq.drop(inq.index[(inq[\"stazione_id\"]==s)], axis=0, inplace=True)\n",
    "    \n",
    "    #Delete not a number values\n",
    "    inq.dropna(subset=[\"valore\"], axis=0, inplace=True)   \n",
    "    \n",
    "    #Group by date\n",
    "    inq = inq.set_index('data').groupby(pd.Grouper(freq='D'))\n",
    "    milan_weather = milan_weather.set_index('Data-Ora').groupby(pd.Grouper(freq='D'))\n",
    "\n",
    "    #Calculate daily pollutant mean\n",
    "    inq_mean = inq['valore'].mean().reset_index()\n",
    "    \n",
    "    #Calculate daily mm of rain mean\n",
    "    milan_weather_mean = milan_weather['Valore Cumulato'].mean().reset_index().rename(columns={\"Data-Ora\":\"data\"})\n",
    "    \n",
    "    #Inner-join between 'data' from inq_mean and milan_weather\n",
    "    result=pd.merge(inq_mean,milan_weather_mean,on='data')\n",
    "\n",
    "    result.plot.scatter(x='Valore Cumulato', y='valore')\n",
    "\n",
    "    plt.xlabel('Daily mm of rain')\n",
    "    plt.ylabel('Pollutant: '+pollutant)"
   ]
  },
  {
   "cell_type": "code",
   "execution_count": 4,
   "metadata": {},
   "outputs": [],
   "source": [
    "#Stations by pollutant\n",
    "NO2 = [1, 2, 3, 4, 5, 6, 7, 8, 9]\n",
    "CO_8h = [3, 4, 6, 7, 8]\n",
    "PM10 = [2, 4, 6, 7, 9]\n",
    "PM25 = [2, 6, 9]\n",
    "C6H6 = [2, 4, 6, 8]\n",
    "O3 = [2, 5, 7, 9]\n",
    "SO2 = [2, 9]"
   ]
  },
  {
   "cell_type": "code",
   "execution_count": null,
   "metadata": {},
   "outputs": [],
   "source": [
    "weather_pollutant(\"NO2\", \"TMEDIA °C\", \"2018-01-03\", \"2018-12-31\", NO2)\n",
    "weather_pollutant(\"NO2\", \"VENTOMEDIA km/h\", \"2018-01-03\", \"2018-12-31\", NO2)\n",
    "weather_pollutant(\"NO2\", \"VISIBILITA km\", \"2018-01-03\", \"2018-12-31\", NO2)\n",
    "rain(\"NO2\", \"2018-01-03\", \"2018-12-31\", NO2)"
   ]
  },
  {
   "cell_type": "code",
   "execution_count": null,
   "metadata": {},
   "outputs": [],
   "source": [
    "weather_pollutant(\"CO_8h\", \"TMEDIA °C\", \"2018-01-03\", \"2018-12-31\", CO_8h)\n",
    "weather_pollutant(\"CO_8h\", \"VENTOMEDIA km/h\", \"2018-01-03\", \"2018-12-31\", CO_8h)\n",
    "weather_pollutant(\"CO_8h\", \"VISIBILITA km\", \"2018-01-03\", \"2018-12-31\", CO_8h)\n",
    "rain(\"CO_8h\", \"2018-01-03\", \"2018-12-31\", CO_8h)"
   ]
  },
  {
   "cell_type": "code",
   "execution_count": null,
   "metadata": {},
   "outputs": [],
   "source": [
    "weather_pollutant(\"PM10\", \"TMEDIA °C\", \"2018-01-03\", \"2018-12-31\", PM10)\n",
    "weather_pollutant(\"PM10\", \"VENTOMEDIA km/h\", \"2018-01-03\", \"2018-12-31\", PM10)\n",
    "weather_pollutant(\"PM10\", \"VISIBILITA km\", \"2018-01-03\", \"2018-12-31\", PM10)\n",
    "rain(\"PM10\", \"2018-01-03\", \"2018-12-31\", PM10)"
   ]
  },
  {
   "cell_type": "code",
   "execution_count": null,
   "metadata": {},
   "outputs": [],
   "source": [
    "weather_pollutant(\"PM25\", \"TMEDIA °C\", \"2018-01-03\", \"2018-12-31\", PM25)\n",
    "weather_pollutant(\"PM25\", \"VENTOMEDIA km/h\", \"2018-01-03\", \"2018-12-31\", PM25)\n",
    "weather_pollutant(\"PM25\", \"VISIBILITA km\", \"2018-01-03\", \"2018-12-31\", PM25)\n",
    "rain(\"PM25\", \"2018-01-03\", \"2018-12-31\", PM25)"
   ]
  },
  {
   "cell_type": "code",
   "execution_count": null,
   "metadata": {},
   "outputs": [],
   "source": [
    "weather_pollutant(\"C6H6\", \"TMEDIA °C\", \"2018-01-03\", \"2018-12-31\", C6H6)\n",
    "weather_pollutant(\"C6H6\", \"VENTOMEDIA km/h\", \"2018-01-03\", \"2018-12-31\", C6H6)\n",
    "weather_pollutant(\"C6H6\", \"VISIBILITA km\", \"2018-01-03\", \"2018-12-31\", C6H6)\n",
    "rain(\"C6H6\", \"2018-01-03\", \"2018-12-31\", C6H6)"
   ]
  },
  {
   "cell_type": "code",
   "execution_count": null,
   "metadata": {},
   "outputs": [],
   "source": [
    "weather_pollutant(\"O3\", \"TMEDIA °C\", \"2018-01-01\", \"2018-12-31\", O3)\n",
    "weather_pollutant(\"O3\", \"VENTOMEDIA km/h\", \"2018-01-01\", \"2018-12-31\", O3)\n",
    "weather_pollutant(\"O3\", \"VISIBILITA km\", \"2018-01-03\", \"2018-12-31\", O3)\n",
    "rain(\"O3\", \"2018-01-03\", \"2018-12-31\", O3)"
   ]
  },
  {
   "cell_type": "code",
   "execution_count": null,
   "metadata": {},
   "outputs": [],
   "source": [
    "weather_pollutant(\"SO2\", \"TMEDIA °C\", \"2018-01-01\", \"2018-12-31\", SO2)\n",
    "weather_pollutant(\"SO2\", \"VENTOMEDIA km/h\", \"2018-01-01\", \"2018-12-31\", SO2)\n",
    "weather_pollutant(\"SO2\", \"VISIBILITA km\", \"2018-01-03\", \"2018-12-31\", SO2)\n",
    "rain(\"SO2\", \"2018-01-03\", \"2018-12-31\", SO2)"
   ]
  }
 ],
 "metadata": {
  "kernelspec": {
   "display_name": "Python 3",
   "language": "python",
   "name": "python3"
  },
  "language_info": {
   "codemirror_mode": {
    "name": "ipython",
    "version": 3
   },
   "file_extension": ".py",
   "mimetype": "text/x-python",
   "name": "python",
   "nbconvert_exporter": "python",
   "pygments_lexer": "ipython3",
   "version": "3.9.4"
  }
 },
 "nbformat": 4,
 "nbformat_minor": 4
}

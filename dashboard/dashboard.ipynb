{
 "cells": [
  {
   "cell_type": "code",
   "execution_count": 12,
   "metadata": {
    "extensions": {
     "jupyter_dashboards": {
      "version": 1,
      "views": {
       "grid_default": {},
       "report_default": {}
      }
     }
    }
   },
   "outputs": [],
   "source": [
    "from matplotlib import pyplot as plt\n",
    "import matplotlib\n",
    "import numpy as np\n",
    "import pandas as pd\n",
    "from ipywidgets import interact\n",
    "\n",
    "plt.style.use('ggplot')\n",
    "\n",
    "palette_standard = {\n",
    "    'white': 'white',\n",
    "    'black': 'black',\n",
    "    'green': 'green',\n",
    "    'red':   'red',\n",
    "    'purple': 'purple'\n",
    "}\n",
    "palette_gruv = {\n",
    "    'white': '#f9f5d7',\n",
    "    'black': '#3c3836',\n",
    "    'green': '#98971a',\n",
    "    'red':   '#cc241d',\n",
    "    'purple': '#8f3f71',\n",
    "    'blue': '#076678'\n",
    "}\n",
    "palette_colorblind = {\n",
    "    'white': 'white',\n",
    "    'black': 'black',\n",
    "    'green': '#009e73',\n",
    "    'red':   '#d55e00',\n",
    "    'purple': '#cc79a7',\n",
    "    'blue': '#0072b2'\n",
    "}\n",
    "palette = palette_colorblind"
   ]
  },
  {
   "cell_type": "code",
   "execution_count": 26,
   "metadata": {
    "extensions": {
     "jupyter_dashboards": {
      "version": 1,
      "views": {
       "grid_default": {},
       "report_default": {}
      }
     }
    }
   },
   "outputs": [],
   "source": [
    "ds = {\n",
    "    '2018' : pd.read_csv('../csv/pollution_detection/ds459_qaria_datoariagiornostazione_year-2018.csv', sep=';'),\n",
    "    '2017' : pd.read_csv('../csv/pollution_detection/ds460_qaria_datoariagiornostazione_year-2017.csv', sep=';'),\n",
    "    '2016' : pd.read_csv('../csv/pollution_detection/ds461_qaria_datoariagiornostazione_year-2016.csv', sep=';'),\n",
    "    '2015' : pd.read_csv('../csv/pollution_detection/ds462_qaria_datoariagiornostazione_year-2015.csv', sep=';'),\n",
    "    '2014' : pd.read_csv('../csv/pollution_detection/ds463_qaria_datoariagiornostazione_year-2014.csv', sep=';')\n",
    "}\n",
    "\n",
    "max_daily = {\n",
    "    'NO2' : 200,\n",
    "    'PM10' : 50,\n",
    "    'PM25' : 25,\n",
    "    'O3' : 120,\n",
    "    'CO_8h' : 10,\n",
    "    'SO2': 125,\n",
    "    'C6H6': 5\n",
    "}\n",
    "\n",
    "mode = {\n",
    "    'NO2' : 'max',\n",
    "    'PM10' : 'mean',\n",
    "    'PM25' : 'mean',\n",
    "    '03' : 'mean',\n",
    "    'CO_8h' : 'max',\n",
    "    'SO2' : 'mean',\n",
    "    'C6H6' : 'mean'\n",
    "}"
   ]
  },
  {
   "cell_type": "code",
   "execution_count": 24,
   "metadata": {
    "extensions": {
     "jupyter_dashboards": {
      "version": 1,
      "views": {
       "grid_default": {},
       "report_default": {}
      }
     }
    }
   },
   "outputs": [],
   "source": [
    "def area_plot(dataset, substance, max_daily, mode='mean'):\n",
    "    ds = dataset[dataset['inquinante']==substance].dropna()[['data', 'valore']]\n",
    "    if mode == 'max':\n",
    "        ds = ds.groupby(by='data').max()\n",
    "    if mode == 'mean':\n",
    "        ds = ds.groupby(by='data').mean()\n",
    "    x = ds.index.map(lambda i: i[-5:])\n",
    "    y = ds['valore']\n",
    "    year = ds.index[0][:4]\n",
    "    maxY = [max_daily] * x.size\n",
    "    warY = [max_daily+max_daily] *x.size\n",
    "    \n",
    "    fig = plt.figure()\n",
    "    ax = plt.axes()\n",
    "    for child in ax.get_children():\n",
    "        if isinstance(child, matplotlib.spines.Spine):\n",
    "            child.set_color(palette['white'])\n",
    "    ax.set_facecolor(palette[\"white\"])\n",
    "    plt.grid(False)\n",
    "    plt.xticks(range(0, x.size, 30))\n",
    "    plt.plot(x,y, color='k', linewidth=0.2)\n",
    "    \n",
    "    #plt.plot(x, maxY)\n",
    "    fig.patch.set_facecolor(palette['white'])\n",
    "    plt.title(substance + \" \" + year)\n",
    "    plt.fill_between(x,y,maxY, where=y<maxY, alpha=.3, color=palette['green'])\n",
    "    plt.fill_between(x,y,maxY, where=(y>maxY), alpha=.3, color=palette['red'])\n",
    "    plt.fill_between(x,y,maxY, where=y>=warY, alpha=1, color=palette['purple'])\n",
    "    #plt.savefig('x')\n",
    "    plt.show()"
   ]
  },
  {
   "cell_type": "code",
   "execution_count": 27,
   "metadata": {
    "extensions": {
     "jupyter_dashboards": {
      "version": 1,
      "views": {
       "grid_default": {},
       "report_default": {}
      }
     }
    },
    "scrolled": false
   },
   "outputs": [
    {
     "data": {
      "application/vnd.jupyter.widget-view+json": {
       "model_id": "5b594559e4ea4072a4bad393b5ba0fc4",
       "version_major": 2,
       "version_minor": 0
      },
      "text/plain": [
       "interactive(children=(Dropdown(description='pollutant', options=('NO2', 'PM10', 'PM25', 'O3', 'CO_8h'), value=…"
      ]
     },
     "metadata": {},
     "output_type": "display_data"
    },
    {
     "data": {
      "application/vnd.jupyter.widget-view+json": {
       "model_id": "87c84d437efb48d9a786698afdbe81fc",
       "version_major": 2,
       "version_minor": 0
      },
      "text/plain": [
       "interactive(children=(Dropdown(description='pollutant', options=('NO2', 'PM10', 'PM25', 'O3', 'CO_8h'), value=…"
      ]
     },
     "metadata": {},
     "output_type": "display_data"
    }
   ],
   "source": [
    "@interact(pollutant=['NO2', 'PM10', 'PM25', 'O3', 'CO_8h'], year=['2018', '2017', '2016', '2015', '2014'])\n",
    "def plot(pollutant, year):\n",
    "    area_plot(ds[year], pollutant, max_daily[pollutant], mode[pollutant])\n",
    "@interact(pollutant=['NO2', 'PM10', 'PM25', 'O3', 'CO_8h'], year=['2018', '2017', '2016', '2015', '2014'])\n",
    "def plot(pollutant, year):\n",
    "    area_plot(ds[year], pollutant, max_daily[pollutant], mode[pollutant])"
   ]
  },
  {
   "cell_type": "code",
   "execution_count": 28,
   "metadata": {
    "extensions": {
     "jupyter_dashboards": {
      "version": 1,
      "views": {
       "grid_default": {},
       "report_default": {}
      }
     }
    }
   },
   "outputs": [
    {
     "data": {
      "application/vnd.jupyter.widget-view+json": {
       "model_id": "55af21434a2b4ddca00d73f27ffe04a6",
       "version_major": 2,
       "version_minor": 0
      },
      "text/plain": [
       "interactive(children=(Dropdown(description='pollutant', options=('NO2', 'PM10', 'PM25', 'O3', 'CO_8h'), value=…"
      ]
     },
     "metadata": {},
     "output_type": "display_data"
    }
   ],
   "source": [
    "@interact(pollutant=['NO2', 'PM10', 'PM25', 'O3', 'CO_8h'], year=['2018', '2017', '2016', '2015', '2014'])\n",
    "def plot(pollutant, year):\n",
    "    area_plot(ds[year], pollutant, max_daily[pollutant], mode[pollutant])"
   ]
  },
  {
   "cell_type": "code",
   "execution_count": null,
   "metadata": {
    "extensions": {
     "jupyter_dashboards": {
      "version": 1,
      "views": {
       "grid_default": {},
       "report_default": {}
      }
     }
    }
   },
   "outputs": [],
   "source": []
  }
 ],
 "metadata": {
  "extensions": {
   "jupyter_dashboards": {
    "activeView": "grid_default",
    "version": 1,
    "views": {
     "grid_default": {
      "cellMargin": 10,
      "defaultCellHeight": 20,
      "maxColumns": 12,
      "name": "grid",
      "type": "grid"
     },
     "report_default": {
      "name": "report",
      "type": "report"
     }
    }
   }
  },
  "kernelspec": {
   "display_name": "Python 3",
   "language": "python",
   "name": "python3"
  },
  "language_info": {
   "codemirror_mode": {
    "name": "ipython",
    "version": 3
   },
   "file_extension": ".py",
   "mimetype": "text/x-python",
   "name": "python",
   "nbconvert_exporter": "python",
   "pygments_lexer": "ipython3",
   "version": "3.8.5"
  }
 },
 "nbformat": 4,
 "nbformat_minor": 4
}
